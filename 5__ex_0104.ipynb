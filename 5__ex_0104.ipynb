{
  "cells": [
    {
      "cell_type": "markdown",
      "metadata": {
        "id": "XcgibygL0nop"
      },
      "source": [
        "# Coding Exercise #0104"
      ]
    },
    {
      "cell_type": "markdown",
      "metadata": {
        "id": "P-K1stiO0nor"
      },
      "source": [
        "### 1. Pandas Series:"
      ]
    },
    {
      "cell_type": "code",
      "execution_count": 2,
      "metadata": {
        "id": "HexpFThW0nor"
      },
      "outputs": [],
      "source": [
        "import pandas as pd\n",
        "import numpy as np"
      ]
    },
    {
      "cell_type": "markdown",
      "metadata": {
        "id": "FzRk_Dll0nos"
      },
      "source": [
        "#### 1.1. Creating Series objects:"
      ]
    },
    {
      "cell_type": "code",
      "execution_count": 3,
      "metadata": {
        "id": "H0E8_wcY0nos"
      },
      "outputs": [],
      "source": [
        "my_index = ['a','b','c']\n",
        "my_values = [222,333,444]\n",
        "my_dict = {'a':222, 'b':333, 'c':444}\n",
        "my_arr = np.array(my_values)"
      ]
    },
    {
      "cell_type": "code",
      "execution_count": 4,
      "metadata": {
        "colab": {
          "base_uri": "https://localhost:8080/"
        },
        "id": "eklwQmK420CW",
        "outputId": "37c8fcb9-5b36-4cea-bcaa-628c12b67297"
      },
      "outputs": [
        {
          "data": {
            "text/plain": [
              "array([222, 333, 444])"
            ]
          },
          "execution_count": 4,
          "metadata": {},
          "output_type": "execute_result"
        }
      ],
      "source": [
        "my_arr"
      ]
    },
    {
      "cell_type": "code",
      "execution_count": 5,
      "metadata": {
        "colab": {
          "base_uri": "https://localhost:8080/"
        },
        "id": "FOCHogjT0nos",
        "outputId": "7d9ce0a4-b8a4-46b7-b14d-b9428a89ff60"
      },
      "outputs": [
        {
          "data": {
            "text/plain": [
              "0    222\n",
              "1    333\n",
              "2    444\n",
              "dtype: int64"
            ]
          },
          "execution_count": 5,
          "metadata": {},
          "output_type": "execute_result"
        }
      ],
      "source": [
        "# Series with values.\n",
        "pd.Series(my_values)"
      ]
    },
    {
      "cell_type": "code",
      "execution_count": 6,
      "metadata": {
        "colab": {
          "base_uri": "https://localhost:8080/"
        },
        "id": "5WXpMeVn0nos",
        "outputId": "0323df77-fce3-4628-becd-3cd320127b0e"
      },
      "outputs": [
        {
          "data": {
            "text/plain": [
              "a    222\n",
              "b    333\n",
              "c    444\n",
              "dtype: int64"
            ]
          },
          "execution_count": 6,
          "metadata": {},
          "output_type": "execute_result"
        }
      ],
      "source": [
        "# Series with values and index labels.\n",
        "pd.Series(data=my_values, index=my_index)"
      ]
    },
    {
      "cell_type": "code",
      "execution_count": 7,
      "metadata": {
        "colab": {
          "base_uri": "https://localhost:8080/"
        },
        "id": "A4Hr28c_0nos",
        "outputId": "47df3fc4-69f1-48d2-8d20-906c32e708c4"
      },
      "outputs": [
        {
          "data": {
            "text/plain": [
              "0    222\n",
              "1    333\n",
              "2    444\n",
              "dtype: int32"
            ]
          },
          "execution_count": 7,
          "metadata": {},
          "output_type": "execute_result"
        }
      ],
      "source": [
        "# Series from a NumPy array.\n",
        "pd.Series(my_arr)"
      ]
    },
    {
      "cell_type": "code",
      "execution_count": 8,
      "metadata": {
        "colab": {
          "base_uri": "https://localhost:8080/"
        },
        "id": "wMBS3R1Z0not",
        "outputId": "7d81b62e-75e5-49a0-c349-db34443c57ff"
      },
      "outputs": [
        {
          "data": {
            "text/plain": [
              "a    222\n",
              "b    333\n",
              "c    444\n",
              "dtype: int32"
            ]
          },
          "execution_count": 8,
          "metadata": {},
          "output_type": "execute_result"
        }
      ],
      "source": [
        "# Series from a NumPy array with index labels.\n",
        "pd.Series(my_arr, index=my_index)"
      ]
    },
    {
      "cell_type": "code",
      "execution_count": 9,
      "metadata": {
        "colab": {
          "base_uri": "https://localhost:8080/"
        },
        "id": "JQ6VH9_z0not",
        "outputId": "b14c2581-90a8-46c8-920f-519d00bcbb8e"
      },
      "outputs": [
        {
          "data": {
            "text/plain": [
              "a    222\n",
              "b    333\n",
              "c    444\n",
              "dtype: int64"
            ]
          },
          "execution_count": 9,
          "metadata": {},
          "output_type": "execute_result"
        }
      ],
      "source": [
        "# Series from a dictionary.\n",
        "pd.Series(my_dict)"
      ]
    },
    {
      "cell_type": "markdown",
      "metadata": {
        "id": "OFo_tKA60not"
      },
      "source": [
        "#### 1.2. Series attributes and indexing:"
      ]
    },
    {
      "cell_type": "code",
      "execution_count": 10,
      "metadata": {
        "colab": {
          "base_uri": "https://localhost:8080/"
        },
        "id": "8cHhNamo0not",
        "outputId": "93ac4803-80bd-4fd5-e70c-18651f42a596"
      },
      "outputs": [
        {
          "data": {
            "text/plain": [
              "a    111\n",
              "b    222\n",
              "c    333\n",
              "d    444\n",
              "Name: MySeries, dtype: int64"
            ]
          },
          "execution_count": 10,
          "metadata": {},
          "output_type": "execute_result"
        }
      ],
      "source": [
        "s = pd.Series(data=[111,222,333,444], index = ['a','b','c','d'], name='MySeries')\n",
        "s"
      ]
    },
    {
      "cell_type": "markdown",
      "metadata": {
        "id": "msG9mwZa0not"
      },
      "source": [
        "Series attributes:"
      ]
    },
    {
      "cell_type": "code",
      "execution_count": 11,
      "metadata": {
        "colab": {
          "base_uri": "https://localhost:8080/"
        },
        "id": "dn2mpe5H0not",
        "outputId": "cd854e1f-c2d4-41ee-8622-44b6cf0239ad"
      },
      "outputs": [
        {
          "data": {
            "text/plain": [
              "Index(['a', 'b', 'c', 'd'], dtype='object')"
            ]
          },
          "execution_count": 11,
          "metadata": {},
          "output_type": "execute_result"
        }
      ],
      "source": [
        "s.index                                   # Index labels."
      ]
    },
    {
      "cell_type": "code",
      "execution_count": 12,
      "metadata": {
        "colab": {
          "base_uri": "https://localhost:8080/",
          "height": 36
        },
        "id": "_7wsQAN10not",
        "outputId": "8268ff66-9f5f-4953-b47d-ea43802e03ac"
      },
      "outputs": [
        {
          "data": {
            "text/plain": [
              "'MySeries'"
            ]
          },
          "execution_count": 12,
          "metadata": {},
          "output_type": "execute_result"
        }
      ],
      "source": [
        "s.name                                    # Name attribute."
      ]
    },
    {
      "cell_type": "code",
      "execution_count": 13,
      "metadata": {
        "colab": {
          "base_uri": "https://localhost:8080/"
        },
        "id": "CnvS4QGB0nou",
        "outputId": "a3093be0-111c-40ae-aa61-f3d0179e7905"
      },
      "outputs": [
        {
          "data": {
            "text/plain": [
              "dtype('int64')"
            ]
          },
          "execution_count": 13,
          "metadata": {},
          "output_type": "execute_result"
        }
      ],
      "source": [
        "s.dtype                                   # Data type."
      ]
    },
    {
      "cell_type": "code",
      "execution_count": 14,
      "metadata": {
        "colab": {
          "base_uri": "https://localhost:8080/"
        },
        "id": "nJiwzM1l0nou",
        "outputId": "0739d7c4-73c0-4c09-dedf-37f885606e7f"
      },
      "outputs": [
        {
          "data": {
            "text/plain": [
              "array([111, 222, 333, 444], dtype=int64)"
            ]
          },
          "execution_count": 14,
          "metadata": {},
          "output_type": "execute_result"
        }
      ],
      "source": [
        "s.values                                  # The values as NumPy array."
      ]
    },
    {
      "cell_type": "markdown",
      "metadata": {
        "id": "8igkiPZO0nou"
      },
      "source": [
        "Series indexing and slicing:"
      ]
    },
    {
      "cell_type": "code",
      "execution_count": 46,
      "metadata": {
        "colab": {
          "base_uri": "https://localhost:8080/"
        },
        "id": "HMeXfxg10nou",
        "outputId": "2647a388-4238-45f7-cd18-d589108bdb22"
      },
      "outputs": [
        {
          "data": {
            "text/plain": [
              "222"
            ]
          },
          "execution_count": 46,
          "metadata": {},
          "output_type": "execute_result"
        }
      ],
      "source": [
        "s[1]"
      ]
    },
    {
      "cell_type": "code",
      "execution_count": 47,
      "metadata": {
        "colab": {
          "base_uri": "https://localhost:8080/"
        },
        "id": "5C0Uu1jC0nou",
        "outputId": "1b22e438-8670-4318-de3c-1939b9e811e6"
      },
      "outputs": [
        {
          "data": {
            "text/plain": [
              "111"
            ]
          },
          "execution_count": 47,
          "metadata": {},
          "output_type": "execute_result"
        }
      ],
      "source": [
        "s['a']"
      ]
    },
    {
      "cell_type": "code",
      "execution_count": 17,
      "metadata": {
        "colab": {
          "base_uri": "https://localhost:8080/"
        },
        "id": "wgIKitXS0nou",
        "outputId": "f64111bd-4440-41b3-b8ad-f3a8b40a77ff"
      },
      "outputs": [
        {
          "data": {
            "text/plain": [
              "c    333\n",
              "d    444\n",
              "Name: MySeries, dtype: int64"
            ]
          },
          "execution_count": 17,
          "metadata": {},
          "output_type": "execute_result"
        }
      ],
      "source": [
        "s[2:4]"
      ]
    },
    {
      "cell_type": "code",
      "execution_count": 18,
      "metadata": {
        "colab": {
          "base_uri": "https://localhost:8080/"
        },
        "id": "qK8Rxmig0nou",
        "outputId": "f6114f1a-fd63-4a20-83ac-24d99fa5b909"
      },
      "outputs": [
        {
          "data": {
            "text/plain": [
              "a    111\n",
              "d    444\n",
              "Name: MySeries, dtype: int64"
            ]
          },
          "execution_count": 18,
          "metadata": {},
          "output_type": "execute_result"
        }
      ],
      "source": [
        "s[['a','d']]"
      ]
    },
    {
      "cell_type": "markdown",
      "metadata": {
        "id": "_xdhU7hD0nou"
      },
      "source": [
        "#### 1.3. Series operations:"
      ]
    },
    {
      "cell_type": "code",
      "execution_count": 19,
      "metadata": {
        "id": "ItvG07Is0nou"
      },
      "outputs": [],
      "source": [
        "s1 = pd.Series(data=[1,2,3,4], index = ['d','b','c','a'])\n",
        "s2 = pd.Series(data=[1,2,3,4], index = ['a','b','d','e'])"
      ]
    },
    {
      "cell_type": "markdown",
      "metadata": {
        "id": "L-0Xnr1o0nou"
      },
      "source": [
        "Please notice that in the Series to Series operations, the elements are matched by the index labels. <br>\n",
        "When there is no mathing index label, we get **NaN**."
      ]
    },
    {
      "cell_type": "code",
      "execution_count": 20,
      "metadata": {
        "colab": {
          "base_uri": "https://localhost:8080/"
        },
        "id": "tAfdpioD0nou",
        "outputId": "d62568cb-04cb-4c21-93b6-a08eaae52cca"
      },
      "outputs": [
        {
          "data": {
            "text/plain": [
              "a    5.0\n",
              "b    4.0\n",
              "c    NaN\n",
              "d    4.0\n",
              "e    NaN\n",
              "dtype: float64"
            ]
          },
          "execution_count": 20,
          "metadata": {},
          "output_type": "execute_result"
        }
      ],
      "source": [
        "s1 + s2"
      ]
    },
    {
      "cell_type": "code",
      "execution_count": 21,
      "metadata": {
        "colab": {
          "base_uri": "https://localhost:8080/"
        },
        "id": "0mWmuydi0nou",
        "outputId": "0b52bfd2-da14-4c34-b539-d689c17929c7"
      },
      "outputs": [
        {
          "data": {
            "text/plain": [
              "a    3.0\n",
              "b    0.0\n",
              "c    NaN\n",
              "d   -2.0\n",
              "e    NaN\n",
              "dtype: float64"
            ]
          },
          "execution_count": 21,
          "metadata": {},
          "output_type": "execute_result"
        }
      ],
      "source": [
        "s1 - s2"
      ]
    },
    {
      "cell_type": "code",
      "execution_count": 22,
      "metadata": {
        "colab": {
          "base_uri": "https://localhost:8080/"
        },
        "id": "TDdPZff-0nov",
        "outputId": "467449a1-9053-4bbe-93d3-3735b7fefcd7"
      },
      "outputs": [
        {
          "data": {
            "text/plain": [
              "a    4.0\n",
              "b    4.0\n",
              "c    NaN\n",
              "d    3.0\n",
              "e    NaN\n",
              "dtype: float64"
            ]
          },
          "execution_count": 22,
          "metadata": {},
          "output_type": "execute_result"
        }
      ],
      "source": [
        "s1 * s2"
      ]
    },
    {
      "cell_type": "code",
      "execution_count": 23,
      "metadata": {
        "colab": {
          "base_uri": "https://localhost:8080/"
        },
        "id": "qLbDm-qJ0nov",
        "outputId": "fb21928c-8176-4128-d711-10d31ef90cf7"
      },
      "outputs": [
        {
          "data": {
            "text/plain": [
              "a    4.000000\n",
              "b    1.000000\n",
              "c         NaN\n",
              "d    0.333333\n",
              "e         NaN\n",
              "dtype: float64"
            ]
          },
          "execution_count": 23,
          "metadata": {},
          "output_type": "execute_result"
        }
      ],
      "source": [
        "s1/s2"
      ]
    },
    {
      "cell_type": "code",
      "execution_count": 24,
      "metadata": {
        "colab": {
          "base_uri": "https://localhost:8080/"
        },
        "id": "Bmw3hKto0nov",
        "outputId": "1b19ace4-6224-4dcb-e16b-8fc522046f28"
      },
      "outputs": [
        {
          "data": {
            "text/plain": [
              "d    2\n",
              "b    4\n",
              "c    6\n",
              "a    8\n",
              "dtype: int64"
            ]
          },
          "execution_count": 24,
          "metadata": {},
          "output_type": "execute_result"
        }
      ],
      "source": [
        "2*s1"
      ]
    },
    {
      "cell_type": "markdown",
      "metadata": {
        "id": "Jf3Yg-us0nov"
      },
      "source": [
        "#### 1.4. Series methods:"
      ]
    },
    {
      "cell_type": "code",
      "execution_count": 48,
      "metadata": {
        "colab": {
          "base_uri": "https://localhost:8080/"
        },
        "id": "_Gem6oyd0nov",
        "outputId": "62067693-4d6c-45e5-9c4c-5348f92a01a2"
      },
      "outputs": [
        {
          "data": {
            "text/plain": [
              "10"
            ]
          },
          "execution_count": 48,
          "metadata": {},
          "output_type": "execute_result"
        }
      ],
      "source": [
        "s1.sum()"
      ]
    },
    {
      "cell_type": "code",
      "execution_count": 26,
      "metadata": {
        "colab": {
          "base_uri": "https://localhost:8080/"
        },
        "id": "wNhEtRRO0nov",
        "outputId": "1d42969b-2928-486b-f051-970382b34bac"
      },
      "outputs": [
        {
          "data": {
            "text/plain": [
              "2.5"
            ]
          },
          "execution_count": 26,
          "metadata": {},
          "output_type": "execute_result"
        }
      ],
      "source": [
        "s1.mean()"
      ]
    },
    {
      "cell_type": "code",
      "execution_count": 27,
      "metadata": {
        "colab": {
          "base_uri": "https://localhost:8080/"
        },
        "id": "yVEivtxC0nov",
        "outputId": "cf843225-6f50-4e0c-ab32-002b22107f36"
      },
      "outputs": [
        {
          "data": {
            "text/plain": [
              "2.5"
            ]
          },
          "execution_count": 27,
          "metadata": {},
          "output_type": "execute_result"
        }
      ],
      "source": [
        "s1.median()"
      ]
    },
    {
      "cell_type": "code",
      "execution_count": 28,
      "metadata": {
        "colab": {
          "base_uri": "https://localhost:8080/"
        },
        "id": "n4OXCApV0nov",
        "outputId": "6e8eb379-3abf-448d-ea2a-85dc4d6ed8d1"
      },
      "outputs": [
        {
          "data": {
            "text/plain": [
              "4"
            ]
          },
          "execution_count": 28,
          "metadata": {},
          "output_type": "execute_result"
        }
      ],
      "source": [
        "s1.max()"
      ]
    },
    {
      "cell_type": "code",
      "execution_count": 29,
      "metadata": {
        "colab": {
          "base_uri": "https://localhost:8080/"
        },
        "id": "sRRZ1tHO0nov",
        "outputId": "985cc83b-da15-418b-e7e4-293db8111c73"
      },
      "outputs": [
        {
          "data": {
            "text/plain": [
              "1.2909944487358056"
            ]
          },
          "execution_count": 29,
          "metadata": {},
          "output_type": "execute_result"
        }
      ],
      "source": [
        "s1.std()"
      ]
    },
    {
      "cell_type": "code",
      "execution_count": 30,
      "metadata": {
        "colab": {
          "base_uri": "https://localhost:8080/"
        },
        "id": "mpE5WCM20nov",
        "outputId": "b024cd94-825c-4cd0-9a39-919f7965016c"
      },
      "outputs": [
        {
          "data": {
            "text/plain": [
              "d    1\n",
              "b    2\n",
              "c    3\n",
              "a    4\n",
              "dtype: int64"
            ]
          },
          "execution_count": 30,
          "metadata": {},
          "output_type": "execute_result"
        }
      ],
      "source": [
        "s1.sort_values()"
      ]
    },
    {
      "cell_type": "code",
      "execution_count": 31,
      "metadata": {
        "colab": {
          "base_uri": "https://localhost:8080/"
        },
        "id": "72A4TIdY0nov",
        "outputId": "bec9586b-ee4d-45b0-b111-c5101051b41d"
      },
      "outputs": [
        {
          "data": {
            "text/plain": [
              "a    4\n",
              "b    2\n",
              "c    3\n",
              "d    1\n",
              "dtype: int64"
            ]
          },
          "execution_count": 31,
          "metadata": {},
          "output_type": "execute_result"
        }
      ],
      "source": [
        "s1.sort_index()"
      ]
    },
    {
      "cell_type": "markdown",
      "metadata": {
        "id": "0Rr64E1S0now"
      },
      "source": [
        "apply() method:"
      ]
    },
    {
      "cell_type": "code",
      "execution_count": 32,
      "metadata": {
        "colab": {
          "base_uri": "https://localhost:8080/"
        },
        "id": "6-gDSsXM0now",
        "outputId": "bb69276a-aadd-4127-dbb6-27c32dc471f2"
      },
      "outputs": [
        {
          "data": {
            "text/plain": [
              "0     165.3\n",
              "1     170.1\n",
              "2     175.0\n",
              "3     182.1\n",
              "4     168.0\n",
              "5     162.0\n",
              "6     155.2\n",
              "7     176.9\n",
              "8     178.5\n",
              "9     176.1\n",
              "10    167.1\n",
              "11    180.0\n",
              "12    162.2\n",
              "13    176.1\n",
              "14    158.2\n",
              "15    168.6\n",
              "16    169.2\n",
              "Name: height, dtype: float64"
            ]
          },
          "execution_count": 32,
          "metadata": {},
          "output_type": "execute_result"
        }
      ],
      "source": [
        "ser_height = pd.Series([165.3, 170.1, 175.0, 182.1, 168.0, 162.0, 155.2, 176.9, 178.5, 176.1,\n",
        "                        167.1, 180.0, 162.2, 176.1, 158.2, 168.6, 169.2],name='height')\n",
        "ser_height                                   "
      ]
    },
    {
      "cell_type": "code",
      "execution_count": 33,
      "metadata": {
        "colab": {
          "base_uri": "https://localhost:8080/"
        },
        "id": "fF_3uQjg0now",
        "outputId": "04354e17-006a-426a-b057-2bba86dac610"
      },
      "outputs": [
        {
          "data": {
            "text/plain": [
              "0     1.653\n",
              "1     1.701\n",
              "2     1.750\n",
              "3     1.821\n",
              "4     1.680\n",
              "5     1.620\n",
              "6     1.552\n",
              "7     1.769\n",
              "8     1.785\n",
              "9     1.761\n",
              "10    1.671\n",
              "11    1.800\n",
              "12    1.622\n",
              "13    1.761\n",
              "14    1.582\n",
              "15    1.686\n",
              "16    1.692\n",
              "Name: height, dtype: float64"
            ]
          },
          "execution_count": 33,
          "metadata": {},
          "output_type": "execute_result"
        }
      ],
      "source": [
        "ser_height.apply(lambda x: x/100)"
      ]
    },
    {
      "cell_type": "code",
      "execution_count": 34,
      "metadata": {
        "id": "-QKWnADp0now"
      },
      "outputs": [],
      "source": [
        "# Add"
      ]
    },
    {
      "cell_type": "markdown",
      "metadata": {
        "id": "bRrVlT420now"
      },
      "source": [
        "Create a series of objects from Python dictionary objects."
      ]
    },
    {
      "cell_type": "code",
      "execution_count": 35,
      "metadata": {
        "colab": {
          "base_uri": "https://localhost:8080/"
        },
        "id": "m4ptmZz40now",
        "outputId": "ff636105-8edf-499e-f398-38859dbef3ac"
      },
      "outputs": [
        {
          "data": {
            "text/plain": [
              "Ohio      35000\n",
              "Texas     71000\n",
              "Oregon    16000\n",
              "Utah       5000\n",
              "dtype: int64"
            ]
          },
          "execution_count": 35,
          "metadata": {},
          "output_type": "execute_result"
        }
      ],
      "source": [
        "sdata = {'Ohio': 35000, 'Texas': 71000, 'Oregon': 16000, 'Utah': 5000}\n",
        "obj1 = pd.Series(sdata)\n",
        "obj1"
      ]
    },
    {
      "cell_type": "markdown",
      "metadata": {
        "id": "rkSfKxt40nox"
      },
      "source": [
        "When creating a series of objects with only dictionary objects, the key values of dictionaries enter in order. You can also index them yourself."
      ]
    },
    {
      "cell_type": "code",
      "execution_count": 36,
      "metadata": {
        "colab": {
          "base_uri": "https://localhost:8080/"
        },
        "id": "OI0pumFT0nox",
        "outputId": "a27f7d9a-2f59-4ab7-eb10-de26747aa29f"
      },
      "outputs": [
        {
          "data": {
            "text/plain": [
              "California        NaN\n",
              "Ohio          35000.0\n",
              "Oregon        16000.0\n",
              "Texas         71000.0\n",
              "dtype: float64"
            ]
          },
          "execution_count": 36,
          "metadata": {},
          "output_type": "execute_result"
        }
      ],
      "source": [
        "states = ['California', 'Ohio', 'Oregon', 'Texas']\n",
        "obj2 = pd.Series(sdata, index=states)\n",
        "obj2"
      ]
    },
    {
      "cell_type": "markdown",
      "metadata": {
        "id": "V_Z4w7io0noy"
      },
      "source": [
        "Only three of the values in sdata in this example can be checked, because the values for 'California' cannot be found. This value is denoted as NaN(not a number), and is treated as a missing value or NA value in pandas. 'Utah' is not included in the states, so it is excluded from the execution result."
      ]
    },
    {
      "cell_type": "markdown",
      "metadata": {
        "id": "RdKwsXv_0noy"
      },
      "source": [
        "inull and notnull functions are used to find missing data."
      ]
    },
    {
      "cell_type": "code",
      "execution_count": 37,
      "metadata": {
        "colab": {
          "base_uri": "https://localhost:8080/"
        },
        "id": "UKoWOG-T0noy",
        "outputId": "92238ff8-b485-4bd3-da6d-f06368269447"
      },
      "outputs": [
        {
          "data": {
            "text/plain": [
              "California     True\n",
              "Ohio          False\n",
              "Oregon        False\n",
              "Texas         False\n",
              "dtype: bool"
            ]
          },
          "execution_count": 37,
          "metadata": {},
          "output_type": "execute_result"
        }
      ],
      "source": [
        "pd.isnull(obj2)"
      ]
    },
    {
      "cell_type": "code",
      "execution_count": 38,
      "metadata": {
        "colab": {
          "base_uri": "https://localhost:8080/"
        },
        "id": "cuf27nEf0noy",
        "outputId": "44c0cc60-2f38-4c37-ad31-18eab9e2ab01"
      },
      "outputs": [
        {
          "data": {
            "text/plain": [
              "California    False\n",
              "Ohio           True\n",
              "Oregon         True\n",
              "Texas          True\n",
              "dtype: bool"
            ]
          },
          "execution_count": 38,
          "metadata": {},
          "output_type": "execute_result"
        }
      ],
      "source": [
        "pd.notnull(obj2)"
      ]
    },
    {
      "cell_type": "markdown",
      "metadata": {
        "id": "_FI6M66L0noy"
      },
      "source": [
        "This method also exists as an instance method of the series. "
      ]
    },
    {
      "cell_type": "code",
      "execution_count": 39,
      "metadata": {
        "colab": {
          "base_uri": "https://localhost:8080/"
        },
        "id": "_MRjVw6u0noz",
        "outputId": "e457f5cf-21e3-4b93-dadf-2b8d3d6a1e48"
      },
      "outputs": [
        {
          "data": {
            "text/plain": [
              "California     True\n",
              "Ohio          False\n",
              "Oregon        False\n",
              "Texas         False\n",
              "dtype: bool"
            ]
          },
          "execution_count": 39,
          "metadata": {},
          "output_type": "execute_result"
        }
      ],
      "source": [
        "obj2.isnull()"
      ]
    },
    {
      "cell_type": "markdown",
      "metadata": {
        "id": "FYhfHfN90noz"
      },
      "source": [
        "A useful function of the series is automatic aligning with indeces and labels in arithmetic operations."
      ]
    },
    {
      "cell_type": "code",
      "execution_count": 40,
      "metadata": {
        "colab": {
          "base_uri": "https://localhost:8080/"
        },
        "id": "u2Gwzgoz0noz",
        "outputId": "0d50f72a-60c5-40a0-fda5-6dc263733151"
      },
      "outputs": [
        {
          "data": {
            "text/plain": [
              "Ohio      35000\n",
              "Texas     71000\n",
              "Oregon    16000\n",
              "Utah       5000\n",
              "dtype: int64"
            ]
          },
          "execution_count": 40,
          "metadata": {},
          "output_type": "execute_result"
        }
      ],
      "source": [
        "obj1"
      ]
    },
    {
      "cell_type": "code",
      "execution_count": 41,
      "metadata": {
        "id": "GBoP4BkN0noz",
        "outputId": "4dcad7c2-1dee-4520-da7a-03c71923d2dd"
      },
      "outputs": [
        {
          "data": {
            "text/plain": [
              "California        NaN\n",
              "Ohio          35000.0\n",
              "Oregon        16000.0\n",
              "Texas         71000.0\n",
              "dtype: float64"
            ]
          },
          "execution_count": 41,
          "metadata": {},
          "output_type": "execute_result"
        }
      ],
      "source": [
        "obj2"
      ]
    },
    {
      "cell_type": "code",
      "execution_count": 42,
      "metadata": {
        "colab": {
          "base_uri": "https://localhost:8080/"
        },
        "id": "RDvzVA9d0noz",
        "outputId": "89f12c35-9014-4dc5-e268-5c0a9742f959"
      },
      "outputs": [
        {
          "data": {
            "text/plain": [
              "California         NaN\n",
              "Ohio           70000.0\n",
              "Oregon         32000.0\n",
              "Texas         142000.0\n",
              "Utah               NaN\n",
              "dtype: float64"
            ]
          },
          "execution_count": 42,
          "metadata": {},
          "output_type": "execute_result"
        }
      ],
      "source": [
        "obj1 + obj2"
      ]
    },
    {
      "cell_type": "markdown",
      "metadata": {
        "id": "0KHFBly10noz"
      },
      "source": [
        "Both the series object and the series index have a name attribute, which is closely related to the core function of pandas. "
      ]
    },
    {
      "cell_type": "code",
      "execution_count": 43,
      "metadata": {
        "colab": {
          "base_uri": "https://localhost:8080/"
        },
        "id": "kaMex3Z50noz",
        "outputId": "8cc7480b-56bd-4a54-c5ef-df1970ff9b4c"
      },
      "outputs": [
        {
          "data": {
            "text/plain": [
              "state\n",
              "California        NaN\n",
              "Ohio          35000.0\n",
              "Oregon        16000.0\n",
              "Texas         71000.0\n",
              "Name: population, dtype: float64"
            ]
          },
          "execution_count": 43,
          "metadata": {},
          "output_type": "execute_result"
        }
      ],
      "source": [
        "obj2.name = 'population'\n",
        "obj2.index.name = 'state'\n",
        "obj2"
      ]
    },
    {
      "cell_type": "markdown",
      "metadata": {
        "id": "7WrzvQq40no0"
      },
      "source": [
        "The index of the series can be changed through substitution. "
      ]
    },
    {
      "cell_type": "code",
      "execution_count": 44,
      "metadata": {
        "colab": {
          "base_uri": "https://localhost:8080/"
        },
        "id": "X0PlZdqi0no0",
        "outputId": "fa2fcf2a-cac3-4214-ec56-e4ce105a4e79"
      },
      "outputs": [
        {
          "data": {
            "text/plain": [
              "Utah       5000\n",
              "Oregon    16000\n",
              "Texas     71000\n",
              "Ohio      35000\n",
              "dtype: int64"
            ]
          },
          "execution_count": 44,
          "metadata": {},
          "output_type": "execute_result"
        }
      ],
      "source": [
        "obj1[::-1]"
      ]
    },
    {
      "cell_type": "code",
      "execution_count": 45,
      "metadata": {
        "colab": {
          "base_uri": "https://localhost:8080/"
        },
        "id": "LOTopUvT0no0",
        "outputId": "d083045e-abe5-4b93-a837-514901eb52d4"
      },
      "outputs": [
        {
          "data": {
            "text/plain": [
              "Bob      35000\n",
              "Steve    71000\n",
              "Jeff     16000\n",
              "Ryan      5000\n",
              "dtype: int64"
            ]
          },
          "execution_count": 45,
          "metadata": {},
          "output_type": "execute_result"
        }
      ],
      "source": [
        "obj1.index = ['Bob', 'Steve', 'Jeff', 'Ryan']\n",
        "obj1"
      ]
    }
  ],
  "metadata": {
    "colab": {
      "provenance": []
    },
    "kernelspec": {
      "display_name": "Python 3 (ipykernel)",
      "language": "python",
      "name": "python3"
    },
    "language_info": {
      "codemirror_mode": {
        "name": "ipython",
        "version": 3
      },
      "file_extension": ".py",
      "mimetype": "text/x-python",
      "name": "python",
      "nbconvert_exporter": "python",
      "pygments_lexer": "ipython3",
      "version": "3.10.9"
    }
  },
  "nbformat": 4,
  "nbformat_minor": 0
}
