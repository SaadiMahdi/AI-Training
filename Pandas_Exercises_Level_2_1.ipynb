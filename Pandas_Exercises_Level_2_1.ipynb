{
  "cells": [
    {
      "cell_type": "code",
      "execution_count": 1,
      "id": "d2e1f972",
      "metadata": {
        "id": "d2e1f972"
      },
      "outputs": [],
      "source": [
        "import pandas as pd"
      ]
    },
    {
      "cell_type": "code",
      "execution_count": 2,
      "id": "ade5ca1c",
      "metadata": {
        "id": "ade5ca1c"
      },
      "outputs": [],
      "source": [
        "df = pd.read_csv('./data/Iris.csv')"
      ]
    },
    {
      "cell_type": "code",
      "execution_count": 3,
      "id": "bf088633",
      "metadata": {
        "id": "bf088633",
        "outputId": "607a21f2-3033-4ef8-ade0-7b401623ab3a"
      },
      "outputs": [
        {
          "name": "stdout",
          "output_type": "stream",
          "text": [
            "   Id  SepalLengthCm  SepalWidthCm  PetalLengthCm  PetalWidthCm      Species\n",
            "0   1            5.1           3.5            1.4           0.2  Iris-setosa\n",
            "1   2            4.9           3.0            1.4           0.2  Iris-setosa\n",
            "2   3            4.7           3.2            1.3           0.2  Iris-setosa\n",
            "3   4            4.6           3.1            1.5           0.2  Iris-setosa\n",
            "4   5            5.0           3.6            1.4           0.2  Iris-setosa\n"
          ]
        }
      ],
      "source": [
        "print(df.head())"
      ]
    },
    {
      "cell_type": "code",
      "execution_count": 4,
      "id": "91d1793a",
      "metadata": {
        "id": "91d1793a",
        "outputId": "2824fc4d-18d7-4d28-827e-d403c8b30b13"
      },
      "outputs": [
        {
          "name": "stdout",
          "output_type": "stream",
          "text": [
            "      Id  SepalLengthCm  SepalWidthCm  PetalLengthCm  PetalWidthCm  \\\n",
            "145  146            6.7           3.0            5.2           2.3   \n",
            "146  147            6.3           2.5            5.0           1.9   \n",
            "147  148            6.5           3.0            5.2           2.0   \n",
            "148  149            6.2           3.4            5.4           2.3   \n",
            "149  150            5.9           3.0            5.1           1.8   \n",
            "\n",
            "            Species  \n",
            "145  Iris-virginica  \n",
            "146  Iris-virginica  \n",
            "147  Iris-virginica  \n",
            "148  Iris-virginica  \n",
            "149  Iris-virginica  \n"
          ]
        }
      ],
      "source": [
        "print(df.tail())"
      ]
    },
    {
      "cell_type": "code",
      "execution_count": 5,
      "id": "3bdb4827",
      "metadata": {
        "id": "3bdb4827",
        "outputId": "300cca46-36fa-473f-8ce2-6fd57a70eab7"
      },
      "outputs": [
        {
          "name": "stdout",
          "output_type": "stream",
          "text": [
            "Index(['Id', 'SepalLengthCm', 'SepalWidthCm', 'PetalLengthCm', 'PetalWidthCm',\n",
            "       'Species'],\n",
            "      dtype='object')\n"
          ]
        }
      ],
      "source": [
        "print(df.columns)"
      ]
    },
    {
      "cell_type": "code",
      "execution_count": 6,
      "id": "a9143447",
      "metadata": {
        "id": "a9143447",
        "outputId": "f9d7a94d-7316-4083-8295-a36e549e748b"
      },
      "outputs": [
        {
          "name": "stdout",
          "output_type": "stream",
          "text": [
            "RangeIndex(start=0, stop=150, step=1)\n"
          ]
        }
      ],
      "source": [
        "print(df.index)"
      ]
    },
    {
      "cell_type": "code",
      "execution_count": 7,
      "id": "f37fe35b",
      "metadata": {
        "id": "f37fe35b"
      },
      "outputs": [
        {
          "ename": "TypeError",
          "evalue": "'set' object is not callable",
          "output_type": "error",
          "traceback": [
            "\u001b[1;31m---------------------------------------------------------------------------\u001b[0m",
            "\u001b[1;31mTypeError\u001b[0m                                 Traceback (most recent call last)",
            "Cell \u001b[1;32mIn[7], line 1\u001b[0m\n\u001b[1;32m----> 1\u001b[0m df \u001b[39m=\u001b[39m df\u001b[39m.\u001b[39;49mrename(columns \u001b[39m=\u001b[39;49m {\u001b[39m\"\u001b[39;49m\u001b[39mMay 1\u001b[39;49m\u001b[39m\"\u001b[39;49m})\n\u001b[0;32m      2\u001b[0m \u001b[39mprint\u001b[39m(df\u001b[39m.\u001b[39mcolumns)\n",
            "File \u001b[1;32mc:\\Users\\user\\anaconda3\\lib\\site-packages\\pandas\\core\\frame.py:5573\u001b[0m, in \u001b[0;36mDataFrame.rename\u001b[1;34m(self, mapper, index, columns, axis, copy, inplace, level, errors)\u001b[0m\n\u001b[0;32m   5454\u001b[0m \u001b[39mdef\u001b[39;00m \u001b[39mrename\u001b[39m(\n\u001b[0;32m   5455\u001b[0m     \u001b[39mself\u001b[39m,\n\u001b[0;32m   5456\u001b[0m     mapper: Renamer \u001b[39m|\u001b[39m \u001b[39mNone\u001b[39;00m \u001b[39m=\u001b[39m \u001b[39mNone\u001b[39;00m,\n\u001b[1;32m   (...)\u001b[0m\n\u001b[0;32m   5464\u001b[0m     errors: IgnoreRaise \u001b[39m=\u001b[39m \u001b[39m\"\u001b[39m\u001b[39mignore\u001b[39m\u001b[39m\"\u001b[39m,\n\u001b[0;32m   5465\u001b[0m ) \u001b[39m-\u001b[39m\u001b[39m>\u001b[39m DataFrame \u001b[39m|\u001b[39m \u001b[39mNone\u001b[39;00m:\n\u001b[0;32m   5466\u001b[0m     \u001b[39m\"\"\"\u001b[39;00m\n\u001b[0;32m   5467\u001b[0m \u001b[39m    Alter axes labels.\u001b[39;00m\n\u001b[0;32m   5468\u001b[0m \n\u001b[1;32m   (...)\u001b[0m\n\u001b[0;32m   5571\u001b[0m \u001b[39m    4  3  6\u001b[39;00m\n\u001b[0;32m   5572\u001b[0m \u001b[39m    \"\"\"\u001b[39;00m\n\u001b[1;32m-> 5573\u001b[0m     \u001b[39mreturn\u001b[39;00m \u001b[39msuper\u001b[39;49m()\u001b[39m.\u001b[39;49m_rename(\n\u001b[0;32m   5574\u001b[0m         mapper\u001b[39m=\u001b[39;49mmapper,\n\u001b[0;32m   5575\u001b[0m         index\u001b[39m=\u001b[39;49mindex,\n\u001b[0;32m   5576\u001b[0m         columns\u001b[39m=\u001b[39;49mcolumns,\n\u001b[0;32m   5577\u001b[0m         axis\u001b[39m=\u001b[39;49maxis,\n\u001b[0;32m   5578\u001b[0m         copy\u001b[39m=\u001b[39;49mcopy,\n\u001b[0;32m   5579\u001b[0m         inplace\u001b[39m=\u001b[39;49minplace,\n\u001b[0;32m   5580\u001b[0m         level\u001b[39m=\u001b[39;49mlevel,\n\u001b[0;32m   5581\u001b[0m         errors\u001b[39m=\u001b[39;49merrors,\n\u001b[0;32m   5582\u001b[0m     )\n",
            "File \u001b[1;32mc:\\Users\\user\\anaconda3\\lib\\site-packages\\pandas\\core\\generic.py:1104\u001b[0m, in \u001b[0;36mNDFrame._rename\u001b[1;34m(self, mapper, index, columns, axis, copy, inplace, level, errors)\u001b[0m\n\u001b[0;32m   1097\u001b[0m         missing_labels \u001b[39m=\u001b[39m [\n\u001b[0;32m   1098\u001b[0m             label\n\u001b[0;32m   1099\u001b[0m             \u001b[39mfor\u001b[39;00m index, label \u001b[39min\u001b[39;00m \u001b[39menumerate\u001b[39m(replacements)\n\u001b[0;32m   1100\u001b[0m             \u001b[39mif\u001b[39;00m indexer[index] \u001b[39m==\u001b[39m \u001b[39m-\u001b[39m\u001b[39m1\u001b[39m\n\u001b[0;32m   1101\u001b[0m         ]\n\u001b[0;32m   1102\u001b[0m         \u001b[39mraise\u001b[39;00m \u001b[39mKeyError\u001b[39;00m(\u001b[39mf\u001b[39m\u001b[39m\"\u001b[39m\u001b[39m{\u001b[39;00mmissing_labels\u001b[39m}\u001b[39;00m\u001b[39m not found in axis\u001b[39m\u001b[39m\"\u001b[39m)\n\u001b[1;32m-> 1104\u001b[0m new_index \u001b[39m=\u001b[39m ax\u001b[39m.\u001b[39;49m_transform_index(f, level\u001b[39m=\u001b[39;49mlevel)\n\u001b[0;32m   1105\u001b[0m result\u001b[39m.\u001b[39m_set_axis_nocheck(new_index, axis\u001b[39m=\u001b[39maxis_no, inplace\u001b[39m=\u001b[39m\u001b[39mTrue\u001b[39;00m, copy\u001b[39m=\u001b[39m\u001b[39mFalse\u001b[39;00m)\n\u001b[0;32m   1106\u001b[0m result\u001b[39m.\u001b[39m_clear_item_cache()\n",
            "File \u001b[1;32mc:\\Users\\user\\anaconda3\\lib\\site-packages\\pandas\\core\\indexes\\base.py:6416\u001b[0m, in \u001b[0;36mIndex._transform_index\u001b[1;34m(self, func, level)\u001b[0m\n\u001b[0;32m   6414\u001b[0m     \u001b[39mreturn\u001b[39;00m \u001b[39mtype\u001b[39m(\u001b[39mself\u001b[39m)\u001b[39m.\u001b[39mfrom_tuples(items, names\u001b[39m=\u001b[39m\u001b[39mself\u001b[39m\u001b[39m.\u001b[39mnames)\n\u001b[0;32m   6415\u001b[0m \u001b[39melse\u001b[39;00m:\n\u001b[1;32m-> 6416\u001b[0m     items \u001b[39m=\u001b[39m [func(x) \u001b[39mfor\u001b[39;00m x \u001b[39min\u001b[39;00m \u001b[39mself\u001b[39m]\n\u001b[0;32m   6417\u001b[0m     \u001b[39mreturn\u001b[39;00m Index(items, name\u001b[39m=\u001b[39m\u001b[39mself\u001b[39m\u001b[39m.\u001b[39mname, tupleize_cols\u001b[39m=\u001b[39m\u001b[39mFalse\u001b[39;00m)\n",
            "File \u001b[1;32mc:\\Users\\user\\anaconda3\\lib\\site-packages\\pandas\\core\\indexes\\base.py:6416\u001b[0m, in \u001b[0;36m<listcomp>\u001b[1;34m(.0)\u001b[0m\n\u001b[0;32m   6414\u001b[0m     \u001b[39mreturn\u001b[39;00m \u001b[39mtype\u001b[39m(\u001b[39mself\u001b[39m)\u001b[39m.\u001b[39mfrom_tuples(items, names\u001b[39m=\u001b[39m\u001b[39mself\u001b[39m\u001b[39m.\u001b[39mnames)\n\u001b[0;32m   6415\u001b[0m \u001b[39melse\u001b[39;00m:\n\u001b[1;32m-> 6416\u001b[0m     items \u001b[39m=\u001b[39m [func(x) \u001b[39mfor\u001b[39;00m x \u001b[39min\u001b[39;00m \u001b[39mself\u001b[39m]\n\u001b[0;32m   6417\u001b[0m     \u001b[39mreturn\u001b[39;00m Index(items, name\u001b[39m=\u001b[39m\u001b[39mself\u001b[39m\u001b[39m.\u001b[39mname, tupleize_cols\u001b[39m=\u001b[39m\u001b[39mFalse\u001b[39;00m)\n",
            "\u001b[1;31mTypeError\u001b[0m: 'set' object is not callable"
          ]
        }
      ],
      "source": [
        "df = df.rename(columns = {\"May 1\"})\n",
        "print(df.columns)"
      ]
    },
    {
      "cell_type": "code",
      "execution_count": null,
      "id": "9c1540f6",
      "metadata": {
        "id": "9c1540f6",
        "outputId": "15304c15-0db2-4810-b314-b1c788cbaf2f"
      },
      "outputs": [
        {
          "name": "stdout",
          "output_type": "stream",
          "text": [
            "0      5.1\n",
            "1      4.9\n",
            "2      4.7\n",
            "3      4.6\n",
            "4      5.0\n",
            "      ... \n",
            "145    6.7\n",
            "146    6.3\n",
            "147    6.5\n",
            "148    6.2\n",
            "149    5.9\n",
            "Name: SepalLengthCm, Length: 150, dtype: float64\n",
            "0      5.1\n",
            "1      4.9\n",
            "2      4.7\n",
            "3      4.6\n",
            "4      5.0\n",
            "      ... \n",
            "145    6.7\n",
            "146    6.3\n",
            "147    6.5\n",
            "148    6.2\n",
            "149    5.9\n",
            "Name: SepalLengthCm, Length: 150, dtype: float64\n"
          ]
        }
      ],
      "source": [
        "# select the column \"Sepal Length\" \n",
        "# way 1\n",
        "print(df['SepalLengthCm'])\n",
        "#way2\n",
        "print(df.SepalLengthCm)"
      ]
    },
    {
      "cell_type": "code",
      "execution_count": null,
      "id": "0b5fd3fb",
      "metadata": {
        "id": "0b5fd3fb",
        "outputId": "a0d459c4-6097-4123-e76d-5abb2a7dcc2e"
      },
      "outputs": [
        {
          "data": {
            "text/html": [
              "<div>\n",
              "<style scoped>\n",
              "    .dataframe tbody tr th:only-of-type {\n",
              "        vertical-align: middle;\n",
              "    }\n",
              "\n",
              "    .dataframe tbody tr th {\n",
              "        vertical-align: top;\n",
              "    }\n",
              "\n",
              "    .dataframe thead th {\n",
              "        text-align: right;\n",
              "    }\n",
              "</style>\n",
              "<table border=\"1\" class=\"dataframe\">\n",
              "  <thead>\n",
              "    <tr style=\"text-align: right;\">\n",
              "      <th></th>\n",
              "      <th>SepalLengthCm</th>\n",
              "      <th>SepalWidthCm</th>\n",
              "    </tr>\n",
              "  </thead>\n",
              "  <tbody>\n",
              "    <tr>\n",
              "      <th>0</th>\n",
              "      <td>5.1</td>\n",
              "      <td>3.5</td>\n",
              "    </tr>\n",
              "    <tr>\n",
              "      <th>1</th>\n",
              "      <td>4.9</td>\n",
              "      <td>3.0</td>\n",
              "    </tr>\n",
              "    <tr>\n",
              "      <th>2</th>\n",
              "      <td>4.7</td>\n",
              "      <td>3.2</td>\n",
              "    </tr>\n",
              "    <tr>\n",
              "      <th>3</th>\n",
              "      <td>4.6</td>\n",
              "      <td>3.1</td>\n",
              "    </tr>\n",
              "    <tr>\n",
              "      <th>4</th>\n",
              "      <td>5.0</td>\n",
              "      <td>3.6</td>\n",
              "    </tr>\n",
              "    <tr>\n",
              "      <th>...</th>\n",
              "      <td>...</td>\n",
              "      <td>...</td>\n",
              "    </tr>\n",
              "    <tr>\n",
              "      <th>145</th>\n",
              "      <td>6.7</td>\n",
              "      <td>3.0</td>\n",
              "    </tr>\n",
              "    <tr>\n",
              "      <th>146</th>\n",
              "      <td>6.3</td>\n",
              "      <td>2.5</td>\n",
              "    </tr>\n",
              "    <tr>\n",
              "      <th>147</th>\n",
              "      <td>6.5</td>\n",
              "      <td>3.0</td>\n",
              "    </tr>\n",
              "    <tr>\n",
              "      <th>148</th>\n",
              "      <td>6.2</td>\n",
              "      <td>3.4</td>\n",
              "    </tr>\n",
              "    <tr>\n",
              "      <th>149</th>\n",
              "      <td>5.9</td>\n",
              "      <td>3.0</td>\n",
              "    </tr>\n",
              "  </tbody>\n",
              "</table>\n",
              "<p>150 rows × 2 columns</p>\n",
              "</div>"
            ],
            "text/plain": [
              "     SepalLengthCm  SepalWidthCm\n",
              "0              5.1           3.5\n",
              "1              4.9           3.0\n",
              "2              4.7           3.2\n",
              "3              4.6           3.1\n",
              "4              5.0           3.6\n",
              "..             ...           ...\n",
              "145            6.7           3.0\n",
              "146            6.3           2.5\n",
              "147            6.5           3.0\n",
              "148            6.2           3.4\n",
              "149            5.9           3.0\n",
              "\n",
              "[150 rows x 2 columns]"
            ]
          },
          "execution_count": 23,
          "metadata": {},
          "output_type": "execute_result"
        }
      ],
      "source": [
        "# select the column \"Sepal Length\"  and \"Sepal width\" \n",
        "df[['SepalLengthCm', 'SepalWidthCm']]"
      ]
    },
    {
      "cell_type": "code",
      "execution_count": 15,
      "id": "ee0d465a",
      "metadata": {
        "id": "ee0d465a"
      },
      "outputs": [],
      "source": [
        "df = pd.DataFrame([['Tom',15,'Male','middle'],['Alice',10, 'Female','elementary']], columns =['Name','Age','gender','School'])"
      ]
    },
    {
      "cell_type": "code",
      "execution_count": 16,
      "id": "a0fb3173",
      "metadata": {
        "id": "a0fb3173",
        "outputId": "c23870d2-fe6a-49f4-bd47-7cc6ffac19bd"
      },
      "outputs": [
        {
          "data": {
            "text/html": [
              "<div>\n",
              "<style scoped>\n",
              "    .dataframe tbody tr th:only-of-type {\n",
              "        vertical-align: middle;\n",
              "    }\n",
              "\n",
              "    .dataframe tbody tr th {\n",
              "        vertical-align: top;\n",
              "    }\n",
              "\n",
              "    .dataframe thead th {\n",
              "        text-align: right;\n",
              "    }\n",
              "</style>\n",
              "<table border=\"1\" class=\"dataframe\">\n",
              "  <thead>\n",
              "    <tr style=\"text-align: right;\">\n",
              "      <th></th>\n",
              "      <th>Name</th>\n",
              "      <th>Age</th>\n",
              "      <th>gender</th>\n",
              "      <th>School</th>\n",
              "    </tr>\n",
              "  </thead>\n",
              "  <tbody>\n",
              "    <tr>\n",
              "      <th>0</th>\n",
              "      <td>Tom</td>\n",
              "      <td>15</td>\n",
              "      <td>Male</td>\n",
              "      <td>middle</td>\n",
              "    </tr>\n",
              "    <tr>\n",
              "      <th>1</th>\n",
              "      <td>Alice</td>\n",
              "      <td>10</td>\n",
              "      <td>Female</td>\n",
              "      <td>elementary</td>\n",
              "    </tr>\n",
              "  </tbody>\n",
              "</table>\n",
              "</div>"
            ],
            "text/plain": [
              "    Name  Age  gender      School\n",
              "0    Tom   15    Male      middle\n",
              "1  Alice   10  Female  elementary"
            ]
          },
          "execution_count": 16,
          "metadata": {},
          "output_type": "execute_result"
        }
      ],
      "source": [
        "df"
      ]
    },
    {
      "cell_type": "code",
      "execution_count": null,
      "id": "d03c6391",
      "metadata": {
        "id": "d03c6391",
        "outputId": "c8c0bb15-f193-4178-c342-9bbc1eb9c216"
      },
      "outputs": [
        {
          "data": {
            "text/plain": [
              "RangeIndex(start=0, stop=2, step=1)"
            ]
          },
          "execution_count": 26,
          "metadata": {},
          "output_type": "execute_result"
        }
      ],
      "source": [
        "df.index"
      ]
    },
    {
      "cell_type": "code",
      "execution_count": 22,
      "id": "871959d8",
      "metadata": {
        "id": "871959d8",
        "outputId": "2b635e17-19ae-4f0e-b935-634ab279e562"
      },
      "outputs": [
        {
          "data": {
            "text/html": [
              "<div>\n",
              "<style scoped>\n",
              "    .dataframe tbody tr th:only-of-type {\n",
              "        vertical-align: middle;\n",
              "    }\n",
              "\n",
              "    .dataframe tbody tr th {\n",
              "        vertical-align: top;\n",
              "    }\n",
              "\n",
              "    .dataframe thead th {\n",
              "        text-align: right;\n",
              "    }\n",
              "</style>\n",
              "<table border=\"1\" class=\"dataframe\">\n",
              "  <thead>\n",
              "    <tr style=\"text-align: right;\">\n",
              "      <th></th>\n",
              "      <th>Name</th>\n",
              "      <th>Age</th>\n",
              "      <th>gender</th>\n",
              "      <th>School</th>\n",
              "    </tr>\n",
              "  </thead>\n",
              "  <tbody>\n",
              "    <tr>\n",
              "      <th>studddent1</th>\n",
              "      <td>Tom</td>\n",
              "      <td>15</td>\n",
              "      <td>Male</td>\n",
              "      <td>middle</td>\n",
              "    </tr>\n",
              "    <tr>\n",
              "      <th>student2</th>\n",
              "      <td>Alice</td>\n",
              "      <td>10</td>\n",
              "      <td>Female</td>\n",
              "      <td>elementary</td>\n",
              "    </tr>\n",
              "  </tbody>\n",
              "</table>\n",
              "</div>"
            ],
            "text/plain": [
              "             Name  Age  gender      School\n",
              "studddent1    Tom   15    Male      middle\n",
              "student2    Alice   10  Female  elementary"
            ]
          },
          "execution_count": 22,
          "metadata": {},
          "output_type": "execute_result"
        }
      ],
      "source": [
        "# change the index \n",
        "df.index = ['student1','student2']\n",
        "df"
      ]
    },
    {
      "cell_type": "code",
      "execution_count": 23,
      "id": "f2768d08",
      "metadata": {
        "id": "f2768d08",
        "outputId": "3d246c52-b6e8-4699-a4a1-5468843fd3fc"
      },
      "outputs": [
        {
          "data": {
            "text/plain": [
              "Index(['studddent1', 'student2'], dtype='object')"
            ]
          },
          "execution_count": 23,
          "metadata": {},
          "output_type": "execute_result"
        }
      ],
      "source": [
        "# way 2\n",
        "df = df.rename(index = {0:'student1',1:'student2'})\n",
        "# check the index\n",
        "df.index\n"
      ]
    },
    {
      "cell_type": "code",
      "execution_count": null,
      "id": "d2c16d3f",
      "metadata": {
        "id": "d2c16d3f",
        "outputId": "5181cd24-5176-424e-c5eb-ad3e832b038c"
      },
      "outputs": [
        {
          "data": {
            "text/html": [
              "<div>\n",
              "<style scoped>\n",
              "    .dataframe tbody tr th:only-of-type {\n",
              "        vertical-align: middle;\n",
              "    }\n",
              "\n",
              "    .dataframe tbody tr th {\n",
              "        vertical-align: top;\n",
              "    }\n",
              "\n",
              "    .dataframe thead th {\n",
              "        text-align: right;\n",
              "    }\n",
              "</style>\n",
              "<table border=\"1\" class=\"dataframe\">\n",
              "  <thead>\n",
              "    <tr style=\"text-align: right;\">\n",
              "      <th></th>\n",
              "      <th>Age</th>\n",
              "      <th>gender</th>\n",
              "      <th>School</th>\n",
              "    </tr>\n",
              "    <tr>\n",
              "      <th>Name</th>\n",
              "      <th></th>\n",
              "      <th></th>\n",
              "      <th></th>\n",
              "    </tr>\n",
              "  </thead>\n",
              "  <tbody>\n",
              "    <tr>\n",
              "      <th>Tom</th>\n",
              "      <td>15</td>\n",
              "      <td>Male</td>\n",
              "      <td>middle</td>\n",
              "    </tr>\n",
              "    <tr>\n",
              "      <th>Alice</th>\n",
              "      <td>10</td>\n",
              "      <td>Female</td>\n",
              "      <td>elementary</td>\n",
              "    </tr>\n",
              "  </tbody>\n",
              "</table>\n",
              "</div>"
            ],
            "text/plain": [
              "       Age  gender      School\n",
              "Name                          \n",
              "Tom     15    Male      middle\n",
              "Alice   10  Female  elementary"
            ]
          },
          "execution_count": 15,
          "metadata": {},
          "output_type": "execute_result"
        }
      ],
      "source": [
        "# way 3\n",
        "\n",
        "\n",
        "# check the index\n"
      ]
    },
    {
      "cell_type": "code",
      "execution_count": 25,
      "id": "a1deab5a",
      "metadata": {
        "id": "a1deab5a"
      },
      "outputs": [],
      "source": [
        "exam_data = {\n",
        "    \"math\":[90,80,70],\n",
        "    \"eng\":[98,89,95],\n",
        "    \"music\":[85,95,100],\n",
        "    \"science\":[100,90,90]\n",
        "}"
      ]
    },
    {
      "cell_type": "code",
      "execution_count": 27,
      "id": "e0aa354f",
      "metadata": {
        "id": "e0aa354f",
        "outputId": "9454945d-f841-45ce-cc09-4c620dc9631a"
      },
      "outputs": [
        {
          "data": {
            "text/html": [
              "<div>\n",
              "<style scoped>\n",
              "    .dataframe tbody tr th:only-of-type {\n",
              "        vertical-align: middle;\n",
              "    }\n",
              "\n",
              "    .dataframe tbody tr th {\n",
              "        vertical-align: top;\n",
              "    }\n",
              "\n",
              "    .dataframe thead th {\n",
              "        text-align: right;\n",
              "    }\n",
              "</style>\n",
              "<table border=\"1\" class=\"dataframe\">\n",
              "  <thead>\n",
              "    <tr style=\"text-align: right;\">\n",
              "      <th></th>\n",
              "      <th>math</th>\n",
              "      <th>eng</th>\n",
              "      <th>music</th>\n",
              "      <th>science</th>\n",
              "    </tr>\n",
              "  </thead>\n",
              "  <tbody>\n",
              "    <tr>\n",
              "      <th>stud1</th>\n",
              "      <td>90</td>\n",
              "      <td>98</td>\n",
              "      <td>85</td>\n",
              "      <td>100</td>\n",
              "    </tr>\n",
              "    <tr>\n",
              "      <th>stud2</th>\n",
              "      <td>80</td>\n",
              "      <td>89</td>\n",
              "      <td>95</td>\n",
              "      <td>90</td>\n",
              "    </tr>\n",
              "    <tr>\n",
              "      <th>stud3</th>\n",
              "      <td>70</td>\n",
              "      <td>95</td>\n",
              "      <td>100</td>\n",
              "      <td>90</td>\n",
              "    </tr>\n",
              "  </tbody>\n",
              "</table>\n",
              "</div>"
            ],
            "text/plain": [
              "       math  eng  music  science\n",
              "stud1    90   98     85      100\n",
              "stud2    80   89     95       90\n",
              "stud3    70   95    100       90"
            ]
          },
          "execution_count": 27,
          "metadata": {},
          "output_type": "execute_result"
        }
      ],
      "source": [
        "# transform into dataFrame(index :stud1, stud2, stud3)\n",
        "df = pd.DataFrame(exam_data, index = ['stud1', 'stud2', 'stud3'])\n",
        "df"
      ]
    },
    {
      "cell_type": "code",
      "execution_count": 31,
      "id": "4401834c",
      "metadata": {
        "id": "4401834c"
      },
      "outputs": [],
      "source": [
        "# make three copy (df1,df2,df3, df4)\n",
        "df1 = df.copy()\n",
        "df2 = df.copy()\n",
        "df3 = df.copy()\n",
        "df4 = df.copy()"
      ]
    },
    {
      "cell_type": "code",
      "execution_count": 32,
      "id": "30a44bd1",
      "metadata": {
        "id": "30a44bd1",
        "outputId": "366d47db-ff89-40cc-e48e-ef2c2271968c"
      },
      "outputs": [
        {
          "data": {
            "text/html": [
              "<div>\n",
              "<style scoped>\n",
              "    .dataframe tbody tr th:only-of-type {\n",
              "        vertical-align: middle;\n",
              "    }\n",
              "\n",
              "    .dataframe tbody tr th {\n",
              "        vertical-align: top;\n",
              "    }\n",
              "\n",
              "    .dataframe thead th {\n",
              "        text-align: right;\n",
              "    }\n",
              "</style>\n",
              "<table border=\"1\" class=\"dataframe\">\n",
              "  <thead>\n",
              "    <tr style=\"text-align: right;\">\n",
              "      <th></th>\n",
              "      <th>math</th>\n",
              "      <th>eng</th>\n",
              "      <th>music</th>\n",
              "      <th>science</th>\n",
              "    </tr>\n",
              "  </thead>\n",
              "  <tbody>\n",
              "    <tr>\n",
              "      <th>stud1</th>\n",
              "      <td>90</td>\n",
              "      <td>98</td>\n",
              "      <td>85</td>\n",
              "      <td>100</td>\n",
              "    </tr>\n",
              "    <tr>\n",
              "      <th>stud3</th>\n",
              "      <td>70</td>\n",
              "      <td>95</td>\n",
              "      <td>100</td>\n",
              "      <td>90</td>\n",
              "    </tr>\n",
              "  </tbody>\n",
              "</table>\n",
              "</div>"
            ],
            "text/plain": [
              "       math  eng  music  science\n",
              "stud1    90   98     85      100\n",
              "stud3    70   95    100       90"
            ]
          },
          "execution_count": 32,
          "metadata": {},
          "output_type": "execute_result"
        }
      ],
      "source": [
        "#drop stud2 from df1\n",
        "df1 = df1.drop('stud2')\n",
        "df1"
      ]
    },
    {
      "cell_type": "code",
      "execution_count": 33,
      "id": "1c8e7470",
      "metadata": {
        "id": "1c8e7470",
        "outputId": "7492d194-5021-4926-eb56-8d5b798403e9"
      },
      "outputs": [
        {
          "data": {
            "text/html": [
              "<div>\n",
              "<style scoped>\n",
              "    .dataframe tbody tr th:only-of-type {\n",
              "        vertical-align: middle;\n",
              "    }\n",
              "\n",
              "    .dataframe tbody tr th {\n",
              "        vertical-align: top;\n",
              "    }\n",
              "\n",
              "    .dataframe thead th {\n",
              "        text-align: right;\n",
              "    }\n",
              "</style>\n",
              "<table border=\"1\" class=\"dataframe\">\n",
              "  <thead>\n",
              "    <tr style=\"text-align: right;\">\n",
              "      <th></th>\n",
              "      <th>math</th>\n",
              "      <th>eng</th>\n",
              "      <th>music</th>\n",
              "      <th>science</th>\n",
              "    </tr>\n",
              "  </thead>\n",
              "  <tbody>\n",
              "    <tr>\n",
              "      <th>stud1</th>\n",
              "      <td>90</td>\n",
              "      <td>98</td>\n",
              "      <td>85</td>\n",
              "      <td>100</td>\n",
              "    </tr>\n",
              "  </tbody>\n",
              "</table>\n",
              "</div>"
            ],
            "text/plain": [
              "       math  eng  music  science\n",
              "stud1    90   98     85      100"
            ]
          },
          "execution_count": 33,
          "metadata": {},
          "output_type": "execute_result"
        }
      ],
      "source": [
        "#drop stud2 and stud3 from df2\n",
        "df2 = df2.drop(['stud2','stud3'])\n",
        "df2"
      ]
    },
    {
      "cell_type": "code",
      "execution_count": 34,
      "id": "aecd2d10",
      "metadata": {
        "id": "aecd2d10",
        "outputId": "20fa8792-a4f6-49d4-d1c5-55b2cd33e59e"
      },
      "outputs": [
        {
          "data": {
            "text/html": [
              "<div>\n",
              "<style scoped>\n",
              "    .dataframe tbody tr th:only-of-type {\n",
              "        vertical-align: middle;\n",
              "    }\n",
              "\n",
              "    .dataframe tbody tr th {\n",
              "        vertical-align: top;\n",
              "    }\n",
              "\n",
              "    .dataframe thead th {\n",
              "        text-align: right;\n",
              "    }\n",
              "</style>\n",
              "<table border=\"1\" class=\"dataframe\">\n",
              "  <thead>\n",
              "    <tr style=\"text-align: right;\">\n",
              "      <th></th>\n",
              "      <th>math</th>\n",
              "      <th>eng</th>\n",
              "      <th>science</th>\n",
              "    </tr>\n",
              "  </thead>\n",
              "  <tbody>\n",
              "    <tr>\n",
              "      <th>stud1</th>\n",
              "      <td>90</td>\n",
              "      <td>98</td>\n",
              "      <td>100</td>\n",
              "    </tr>\n",
              "    <tr>\n",
              "      <th>stud2</th>\n",
              "      <td>80</td>\n",
              "      <td>89</td>\n",
              "      <td>90</td>\n",
              "    </tr>\n",
              "    <tr>\n",
              "      <th>stud3</th>\n",
              "      <td>70</td>\n",
              "      <td>95</td>\n",
              "      <td>90</td>\n",
              "    </tr>\n",
              "  </tbody>\n",
              "</table>\n",
              "</div>"
            ],
            "text/plain": [
              "       math  eng  science\n",
              "stud1    90   98      100\n",
              "stud2    80   89       90\n",
              "stud3    70   95       90"
            ]
          },
          "execution_count": 34,
          "metadata": {},
          "output_type": "execute_result"
        }
      ],
      "source": [
        "#drop the columns 'music' from df3\n",
        "df3 = df3.drop('music', axis = 1)\n",
        "df3"
      ]
    },
    {
      "cell_type": "code",
      "execution_count": 35,
      "id": "d1cea324",
      "metadata": {
        "id": "d1cea324",
        "outputId": "23ceb6f9-f830-4712-942d-543056ff787b"
      },
      "outputs": [
        {
          "data": {
            "text/html": [
              "<div>\n",
              "<style scoped>\n",
              "    .dataframe tbody tr th:only-of-type {\n",
              "        vertical-align: middle;\n",
              "    }\n",
              "\n",
              "    .dataframe tbody tr th {\n",
              "        vertical-align: top;\n",
              "    }\n",
              "\n",
              "    .dataframe thead th {\n",
              "        text-align: right;\n",
              "    }\n",
              "</style>\n",
              "<table border=\"1\" class=\"dataframe\">\n",
              "  <thead>\n",
              "    <tr style=\"text-align: right;\">\n",
              "      <th></th>\n",
              "      <th>math</th>\n",
              "      <th>eng</th>\n",
              "    </tr>\n",
              "  </thead>\n",
              "  <tbody>\n",
              "    <tr>\n",
              "      <th>stud1</th>\n",
              "      <td>90</td>\n",
              "      <td>98</td>\n",
              "    </tr>\n",
              "    <tr>\n",
              "      <th>stud2</th>\n",
              "      <td>80</td>\n",
              "      <td>89</td>\n",
              "    </tr>\n",
              "    <tr>\n",
              "      <th>stud3</th>\n",
              "      <td>70</td>\n",
              "      <td>95</td>\n",
              "    </tr>\n",
              "  </tbody>\n",
              "</table>\n",
              "</div>"
            ],
            "text/plain": [
              "       math  eng\n",
              "stud1    90   98\n",
              "stud2    80   89\n",
              "stud3    70   95"
            ]
          },
          "execution_count": 35,
          "metadata": {},
          "output_type": "execute_result"
        }
      ],
      "source": [
        "#drop the columns 'music'  and science from df4\n",
        "df4 = df4.drop(['music','science'], axis = 1)\n",
        "df4"
      ]
    },
    {
      "cell_type": "markdown",
      "id": "dd478274",
      "metadata": {
        "id": "dd478274"
      },
      "source": [
        "# indexing and slicing"
      ]
    },
    {
      "cell_type": "code",
      "execution_count": 36,
      "id": "b81e6d90",
      "metadata": {
        "id": "b81e6d90",
        "outputId": "0102088f-5669-425a-a828-8b40f93321e5"
      },
      "outputs": [
        {
          "data": {
            "text/plain": [
              "math        90\n",
              "eng         98\n",
              "music       85\n",
              "science    100\n",
              "Name: stud1, dtype: int64"
            ]
          },
          "execution_count": 36,
          "metadata": {},
          "output_type": "execute_result"
        }
      ],
      "source": [
        "# select the first row using 'iloc'\n",
        "df.iloc[0]\n"
      ]
    },
    {
      "cell_type": "code",
      "execution_count": 37,
      "id": "6cf3b0f7",
      "metadata": {
        "id": "6cf3b0f7",
        "outputId": "b2547ffb-a579-432d-a279-29a74213d2a7"
      },
      "outputs": [
        {
          "data": {
            "text/plain": [
              "math        90\n",
              "eng         98\n",
              "music       85\n",
              "science    100\n",
              "Name: stud1, dtype: int64"
            ]
          },
          "execution_count": 37,
          "metadata": {},
          "output_type": "execute_result"
        }
      ],
      "source": [
        "# select the first row using 'loc'\n",
        "df.loc['stud1']"
      ]
    },
    {
      "cell_type": "code",
      "execution_count": 38,
      "id": "4cc4fa6c",
      "metadata": {
        "id": "4cc4fa6c",
        "outputId": "ec9f7d06-c8d5-4364-edb7-402afd26319d"
      },
      "outputs": [
        {
          "data": {
            "text/plain": [
              "math        90\n",
              "eng         98\n",
              "music       85\n",
              "science    100\n",
              "Name: stud1, dtype: int64"
            ]
          },
          "execution_count": 38,
          "metadata": {},
          "output_type": "execute_result"
        }
      ],
      "source": [
        "# select the first row using 'loc'\n",
        "df.loc['stud1']"
      ]
    },
    {
      "cell_type": "code",
      "execution_count": 39,
      "id": "bd98a9e2",
      "metadata": {
        "id": "bd98a9e2",
        "outputId": "03831216-27e1-455a-dfd2-356019831c43"
      },
      "outputs": [
        {
          "data": {
            "text/html": [
              "<div>\n",
              "<style scoped>\n",
              "    .dataframe tbody tr th:only-of-type {\n",
              "        vertical-align: middle;\n",
              "    }\n",
              "\n",
              "    .dataframe tbody tr th {\n",
              "        vertical-align: top;\n",
              "    }\n",
              "\n",
              "    .dataframe thead th {\n",
              "        text-align: right;\n",
              "    }\n",
              "</style>\n",
              "<table border=\"1\" class=\"dataframe\">\n",
              "  <thead>\n",
              "    <tr style=\"text-align: right;\">\n",
              "      <th></th>\n",
              "      <th>math</th>\n",
              "      <th>eng</th>\n",
              "      <th>music</th>\n",
              "      <th>science</th>\n",
              "    </tr>\n",
              "  </thead>\n",
              "  <tbody>\n",
              "    <tr>\n",
              "      <th>stud1</th>\n",
              "      <td>90</td>\n",
              "      <td>98</td>\n",
              "      <td>85</td>\n",
              "      <td>100</td>\n",
              "    </tr>\n",
              "    <tr>\n",
              "      <th>stud2</th>\n",
              "      <td>80</td>\n",
              "      <td>89</td>\n",
              "      <td>95</td>\n",
              "      <td>90</td>\n",
              "    </tr>\n",
              "  </tbody>\n",
              "</table>\n",
              "</div>"
            ],
            "text/plain": [
              "       math  eng  music  science\n",
              "stud1    90   98     85      100\n",
              "stud2    80   89     95       90"
            ]
          },
          "execution_count": 39,
          "metadata": {},
          "output_type": "execute_result"
        }
      ],
      "source": [
        "# select the 'stud1' and 'stud2' using iloc\n",
        "df.iloc[[0,1]]"
      ]
    },
    {
      "cell_type": "code",
      "execution_count": 40,
      "id": "90eea315",
      "metadata": {
        "id": "90eea315",
        "outputId": "0ca92af5-eaf7-4535-dd35-ef568cabcac1"
      },
      "outputs": [
        {
          "data": {
            "text/html": [
              "<div>\n",
              "<style scoped>\n",
              "    .dataframe tbody tr th:only-of-type {\n",
              "        vertical-align: middle;\n",
              "    }\n",
              "\n",
              "    .dataframe tbody tr th {\n",
              "        vertical-align: top;\n",
              "    }\n",
              "\n",
              "    .dataframe thead th {\n",
              "        text-align: right;\n",
              "    }\n",
              "</style>\n",
              "<table border=\"1\" class=\"dataframe\">\n",
              "  <thead>\n",
              "    <tr style=\"text-align: right;\">\n",
              "      <th></th>\n",
              "      <th>math</th>\n",
              "      <th>eng</th>\n",
              "      <th>music</th>\n",
              "      <th>science</th>\n",
              "    </tr>\n",
              "  </thead>\n",
              "  <tbody>\n",
              "    <tr>\n",
              "      <th>stud1</th>\n",
              "      <td>90</td>\n",
              "      <td>98</td>\n",
              "      <td>85</td>\n",
              "      <td>100</td>\n",
              "    </tr>\n",
              "    <tr>\n",
              "      <th>stud2</th>\n",
              "      <td>80</td>\n",
              "      <td>89</td>\n",
              "      <td>95</td>\n",
              "      <td>90</td>\n",
              "    </tr>\n",
              "  </tbody>\n",
              "</table>\n",
              "</div>"
            ],
            "text/plain": [
              "       math  eng  music  science\n",
              "stud1    90   98     85      100\n",
              "stud2    80   89     95       90"
            ]
          },
          "execution_count": 40,
          "metadata": {},
          "output_type": "execute_result"
        }
      ],
      "source": [
        "# select the 'stud1' and 'stud2' using loc\n",
        "df.loc[['stud1','stud2']]"
      ]
    },
    {
      "cell_type": "code",
      "execution_count": 41,
      "id": "51908cdc",
      "metadata": {
        "id": "51908cdc"
      },
      "outputs": [],
      "source": [
        "exam_data = {\n",
        "    \"name\":['hongildong','hongeeedong','hongsamdong'],\n",
        "    \"math\":[90,80,70],\n",
        "    \"eng\":[98,89,95],\n",
        "    \"music\":[85,95,100],\n",
        "    \"science\":[100,90,90]\n",
        "}"
      ]
    },
    {
      "cell_type": "code",
      "execution_count": 43,
      "id": "cae6f541",
      "metadata": {
        "id": "cae6f541",
        "outputId": "a95ba2e3-f953-4bd0-9809-05e5f1f3b806"
      },
      "outputs": [
        {
          "data": {
            "text/html": [
              "<div>\n",
              "<style scoped>\n",
              "    .dataframe tbody tr th:only-of-type {\n",
              "        vertical-align: middle;\n",
              "    }\n",
              "\n",
              "    .dataframe tbody tr th {\n",
              "        vertical-align: top;\n",
              "    }\n",
              "\n",
              "    .dataframe thead th {\n",
              "        text-align: right;\n",
              "    }\n",
              "</style>\n",
              "<table border=\"1\" class=\"dataframe\">\n",
              "  <thead>\n",
              "    <tr style=\"text-align: right;\">\n",
              "      <th></th>\n",
              "      <th>name</th>\n",
              "      <th>math</th>\n",
              "      <th>eng</th>\n",
              "      <th>music</th>\n",
              "      <th>science</th>\n",
              "    </tr>\n",
              "  </thead>\n",
              "  <tbody>\n",
              "    <tr>\n",
              "      <th>0</th>\n",
              "      <td>hongildong</td>\n",
              "      <td>90</td>\n",
              "      <td>98</td>\n",
              "      <td>85</td>\n",
              "      <td>100</td>\n",
              "    </tr>\n",
              "    <tr>\n",
              "      <th>1</th>\n",
              "      <td>hongeeedong</td>\n",
              "      <td>80</td>\n",
              "      <td>89</td>\n",
              "      <td>95</td>\n",
              "      <td>90</td>\n",
              "    </tr>\n",
              "    <tr>\n",
              "      <th>2</th>\n",
              "      <td>hongsamdong</td>\n",
              "      <td>70</td>\n",
              "      <td>95</td>\n",
              "      <td>100</td>\n",
              "      <td>90</td>\n",
              "    </tr>\n",
              "  </tbody>\n",
              "</table>\n",
              "</div>"
            ],
            "text/plain": [
              "          name  math  eng  music  science\n",
              "0   hongildong    90   98     85      100\n",
              "1  hongeeedong    80   89     95       90\n",
              "2  hongsamdong    70   95    100       90"
            ]
          },
          "execution_count": 43,
          "metadata": {},
          "output_type": "execute_result"
        }
      ],
      "source": [
        "# transform into dataFrame\n",
        "df = pd.DataFrame(exam_data)\n",
        "df"
      ]
    },
    {
      "cell_type": "code",
      "execution_count": 44,
      "id": "d547a52f",
      "metadata": {
        "id": "d547a52f",
        "outputId": "c6d9a064-6717-455c-dd7b-ccbfb3acd9f5"
      },
      "outputs": [
        {
          "data": {
            "text/html": [
              "<div>\n",
              "<style scoped>\n",
              "    .dataframe tbody tr th:only-of-type {\n",
              "        vertical-align: middle;\n",
              "    }\n",
              "\n",
              "    .dataframe tbody tr th {\n",
              "        vertical-align: top;\n",
              "    }\n",
              "\n",
              "    .dataframe thead th {\n",
              "        text-align: right;\n",
              "    }\n",
              "</style>\n",
              "<table border=\"1\" class=\"dataframe\">\n",
              "  <thead>\n",
              "    <tr style=\"text-align: right;\">\n",
              "      <th></th>\n",
              "      <th>name</th>\n",
              "      <th>math</th>\n",
              "      <th>eng</th>\n",
              "      <th>music</th>\n",
              "      <th>science</th>\n",
              "    </tr>\n",
              "    <tr>\n",
              "      <th>name</th>\n",
              "      <th></th>\n",
              "      <th></th>\n",
              "      <th></th>\n",
              "      <th></th>\n",
              "      <th></th>\n",
              "    </tr>\n",
              "  </thead>\n",
              "  <tbody>\n",
              "    <tr>\n",
              "      <th>hongildong</th>\n",
              "      <td>hongildong</td>\n",
              "      <td>90</td>\n",
              "      <td>98</td>\n",
              "      <td>85</td>\n",
              "      <td>100</td>\n",
              "    </tr>\n",
              "    <tr>\n",
              "      <th>hongeeedong</th>\n",
              "      <td>hongeeedong</td>\n",
              "      <td>80</td>\n",
              "      <td>89</td>\n",
              "      <td>95</td>\n",
              "      <td>90</td>\n",
              "    </tr>\n",
              "    <tr>\n",
              "      <th>hongsamdong</th>\n",
              "      <td>hongsamdong</td>\n",
              "      <td>70</td>\n",
              "      <td>95</td>\n",
              "      <td>100</td>\n",
              "      <td>90</td>\n",
              "    </tr>\n",
              "  </tbody>\n",
              "</table>\n",
              "</div>"
            ],
            "text/plain": [
              "                    name  math  eng  music  science\n",
              "name                                               \n",
              "hongildong    hongildong    90   98     85      100\n",
              "hongeeedong  hongeeedong    80   89     95       90\n",
              "hongsamdong  hongsamdong    70   95    100       90"
            ]
          },
          "execution_count": 44,
          "metadata": {},
          "output_type": "execute_result"
        }
      ],
      "source": [
        "# set the column \"name\" as the new index\n",
        "df.index = df['name']\n",
        "df"
      ]
    },
    {
      "cell_type": "code",
      "execution_count": 46,
      "id": "9456e831",
      "metadata": {
        "id": "9456e831",
        "outputId": "20fb2da8-f093-46a3-8ba1-c5b1fc9c79ca"
      },
      "outputs": [
        {
          "name": "stdout",
          "output_type": "stream",
          "text": [
            "85\n",
            "85\n"
          ]
        }
      ],
      "source": [
        "# select music score of hongildong\n",
        "print(df.loc['hongildong','music'])\n",
        "print(df.iloc[0,3])"
      ]
    },
    {
      "cell_type": "code",
      "execution_count": 47,
      "id": "690dd9a4",
      "metadata": {
        "id": "690dd9a4",
        "outputId": "0f580e16-06f4-4322-ece0-af7797b6ee0b"
      },
      "outputs": [
        {
          "name": "stdout",
          "output_type": "stream",
          "text": [
            "music       85\n",
            "science    100\n",
            "Name: hongildong, dtype: object\n",
            "music       85\n",
            "science    100\n",
            "Name: hongildong, dtype: object\n"
          ]
        }
      ],
      "source": [
        "# select music and science score of hongildong\n",
        "#using iloc \n",
        "#using loc\n",
        "print(df.loc['hongildong',['music','science']])\n",
        "print(df.iloc[0,[3,4]])"
      ]
    },
    {
      "cell_type": "code",
      "execution_count": 48,
      "id": "f9f932fd",
      "metadata": {
        "id": "f9f932fd",
        "outputId": "f579dc54-02bd-41a9-ca91-a44fb24bb6bc"
      },
      "outputs": [
        {
          "data": {
            "text/plain": [
              "math       80\n",
              "eng        89\n",
              "music      95\n",
              "science    90\n",
              "Name: hongeeedong, dtype: object"
            ]
          },
          "execution_count": 48,
          "metadata": {},
          "output_type": "execute_result"
        }
      ],
      "source": [
        "# ### slicing\n",
        "#select math, eng, music, and science score of hongeeedong\n",
        "#using iloc \n",
        "df.iloc[1,1:]"
      ]
    },
    {
      "cell_type": "code",
      "execution_count": 49,
      "id": "85f78c81",
      "metadata": {
        "id": "85f78c81",
        "outputId": "c2ec742e-be97-4bf0-bce3-69edab0fc0e6"
      },
      "outputs": [
        {
          "data": {
            "text/plain": [
              "math       80\n",
              "eng        89\n",
              "music      95\n",
              "science    90\n",
              "Name: hongeeedong, dtype: object"
            ]
          },
          "execution_count": 49,
          "metadata": {},
          "output_type": "execute_result"
        }
      ],
      "source": [
        "#using loc\n",
        "df.loc['hongeeedong',['math','eng','music','science']]"
      ]
    },
    {
      "cell_type": "code",
      "execution_count": 50,
      "id": "60a48f22",
      "metadata": {
        "id": "60a48f22",
        "outputId": "495a335d-6f5f-4875-c7a3-9631ffec397c"
      },
      "outputs": [
        {
          "data": {
            "text/html": [
              "<div>\n",
              "<style scoped>\n",
              "    .dataframe tbody tr th:only-of-type {\n",
              "        vertical-align: middle;\n",
              "    }\n",
              "\n",
              "    .dataframe tbody tr th {\n",
              "        vertical-align: top;\n",
              "    }\n",
              "\n",
              "    .dataframe thead th {\n",
              "        text-align: right;\n",
              "    }\n",
              "</style>\n",
              "<table border=\"1\" class=\"dataframe\">\n",
              "  <thead>\n",
              "    <tr style=\"text-align: right;\">\n",
              "      <th></th>\n",
              "      <th>math</th>\n",
              "      <th>eng</th>\n",
              "      <th>music</th>\n",
              "      <th>science</th>\n",
              "    </tr>\n",
              "    <tr>\n",
              "      <th>name</th>\n",
              "      <th></th>\n",
              "      <th></th>\n",
              "      <th></th>\n",
              "      <th></th>\n",
              "    </tr>\n",
              "  </thead>\n",
              "  <tbody>\n",
              "    <tr>\n",
              "      <th>hongildong</th>\n",
              "      <td>90</td>\n",
              "      <td>98</td>\n",
              "      <td>85</td>\n",
              "      <td>100</td>\n",
              "    </tr>\n",
              "    <tr>\n",
              "      <th>hongeeedong</th>\n",
              "      <td>80</td>\n",
              "      <td>89</td>\n",
              "      <td>95</td>\n",
              "      <td>90</td>\n",
              "    </tr>\n",
              "  </tbody>\n",
              "</table>\n",
              "</div>"
            ],
            "text/plain": [
              "             math  eng  music  science\n",
              "name                                  \n",
              "hongildong     90   98     85      100\n",
              "hongeeedong    80   89     95       90"
            ]
          },
          "execution_count": 50,
          "metadata": {},
          "output_type": "execute_result"
        }
      ],
      "source": [
        "#select math, eng, music, and science score of hongeeedong and hongildong\n",
        "#using iloc \n",
        "df.iloc[[0,1],1:]"
      ]
    },
    {
      "cell_type": "code",
      "execution_count": 51,
      "id": "4c5cd87e",
      "metadata": {
        "id": "4c5cd87e",
        "outputId": "219da607-842e-4c27-9d0c-27cc05b904d2"
      },
      "outputs": [
        {
          "data": {
            "text/html": [
              "<div>\n",
              "<style scoped>\n",
              "    .dataframe tbody tr th:only-of-type {\n",
              "        vertical-align: middle;\n",
              "    }\n",
              "\n",
              "    .dataframe tbody tr th {\n",
              "        vertical-align: top;\n",
              "    }\n",
              "\n",
              "    .dataframe thead th {\n",
              "        text-align: right;\n",
              "    }\n",
              "</style>\n",
              "<table border=\"1\" class=\"dataframe\">\n",
              "  <thead>\n",
              "    <tr style=\"text-align: right;\">\n",
              "      <th></th>\n",
              "      <th>math</th>\n",
              "      <th>eng</th>\n",
              "      <th>music</th>\n",
              "      <th>science</th>\n",
              "    </tr>\n",
              "    <tr>\n",
              "      <th>name</th>\n",
              "      <th></th>\n",
              "      <th></th>\n",
              "      <th></th>\n",
              "      <th></th>\n",
              "    </tr>\n",
              "  </thead>\n",
              "  <tbody>\n",
              "    <tr>\n",
              "      <th>hongeeedong</th>\n",
              "      <td>80</td>\n",
              "      <td>89</td>\n",
              "      <td>95</td>\n",
              "      <td>90</td>\n",
              "    </tr>\n",
              "    <tr>\n",
              "      <th>hongildong</th>\n",
              "      <td>90</td>\n",
              "      <td>98</td>\n",
              "      <td>85</td>\n",
              "      <td>100</td>\n",
              "    </tr>\n",
              "  </tbody>\n",
              "</table>\n",
              "</div>"
            ],
            "text/plain": [
              "             math  eng  music  science\n",
              "name                                  \n",
              "hongeeedong    80   89     95       90\n",
              "hongildong     90   98     85      100"
            ]
          },
          "execution_count": 51,
          "metadata": {},
          "output_type": "execute_result"
        }
      ],
      "source": [
        "#using loc\n",
        "df.loc[['hongeeedong','hongildong'],['math','eng','music','science']]"
      ]
    },
    {
      "cell_type": "code",
      "execution_count": 53,
      "id": "ebd0b54d",
      "metadata": {
        "id": "ebd0b54d",
        "outputId": "fab869c6-d5e3-4469-e6f0-008e5f1a5b88"
      },
      "outputs": [
        {
          "data": {
            "text/html": [
              "<div>\n",
              "<style scoped>\n",
              "    .dataframe tbody tr th:only-of-type {\n",
              "        vertical-align: middle;\n",
              "    }\n",
              "\n",
              "    .dataframe tbody tr th {\n",
              "        vertical-align: top;\n",
              "    }\n",
              "\n",
              "    .dataframe thead th {\n",
              "        text-align: right;\n",
              "    }\n",
              "</style>\n",
              "<table border=\"1\" class=\"dataframe\">\n",
              "  <thead>\n",
              "    <tr style=\"text-align: right;\">\n",
              "      <th></th>\n",
              "      <th>name</th>\n",
              "      <th>math</th>\n",
              "      <th>eng</th>\n",
              "      <th>music</th>\n",
              "      <th>science</th>\n",
              "      <th>physics</th>\n",
              "    </tr>\n",
              "    <tr>\n",
              "      <th>name</th>\n",
              "      <th></th>\n",
              "      <th></th>\n",
              "      <th></th>\n",
              "      <th></th>\n",
              "      <th></th>\n",
              "      <th></th>\n",
              "    </tr>\n",
              "  </thead>\n",
              "  <tbody>\n",
              "    <tr>\n",
              "      <th>hongildong</th>\n",
              "      <td>hongildong</td>\n",
              "      <td>90</td>\n",
              "      <td>98</td>\n",
              "      <td>85</td>\n",
              "      <td>100</td>\n",
              "      <td>80</td>\n",
              "    </tr>\n",
              "    <tr>\n",
              "      <th>hongeeedong</th>\n",
              "      <td>hongeeedong</td>\n",
              "      <td>80</td>\n",
              "      <td>89</td>\n",
              "      <td>95</td>\n",
              "      <td>90</td>\n",
              "      <td>80</td>\n",
              "    </tr>\n",
              "    <tr>\n",
              "      <th>hongsamdong</th>\n",
              "      <td>hongsamdong</td>\n",
              "      <td>70</td>\n",
              "      <td>95</td>\n",
              "      <td>100</td>\n",
              "      <td>90</td>\n",
              "      <td>80</td>\n",
              "    </tr>\n",
              "  </tbody>\n",
              "</table>\n",
              "</div>"
            ],
            "text/plain": [
              "                    name  math  eng  music  science  physics\n",
              "name                                                        \n",
              "hongildong    hongildong    90   98     85      100       80\n",
              "hongeeedong  hongeeedong    80   89     95       90       80\n",
              "hongsamdong  hongsamdong    70   95    100       90       80"
            ]
          },
          "execution_count": 53,
          "metadata": {},
          "output_type": "execute_result"
        }
      ],
      "source": [
        "# add a new column physics with the score 80\n",
        "df['physics'] = 80\n",
        "df"
      ]
    },
    {
      "cell_type": "code",
      "execution_count": 54,
      "id": "6de9a2b5",
      "metadata": {
        "id": "6de9a2b5"
      },
      "outputs": [],
      "source": [
        "# add a new row\n",
        "df.loc['mahdi'] = ['mahdi', 100, 100, 100, 100, 100]"
      ]
    },
    {
      "cell_type": "code",
      "execution_count": 55,
      "id": "a55bc502",
      "metadata": {
        "id": "a55bc502"
      },
      "outputs": [
        {
          "data": {
            "text/html": [
              "<div>\n",
              "<style scoped>\n",
              "    .dataframe tbody tr th:only-of-type {\n",
              "        vertical-align: middle;\n",
              "    }\n",
              "\n",
              "    .dataframe tbody tr th {\n",
              "        vertical-align: top;\n",
              "    }\n",
              "\n",
              "    .dataframe thead th {\n",
              "        text-align: right;\n",
              "    }\n",
              "</style>\n",
              "<table border=\"1\" class=\"dataframe\">\n",
              "  <thead>\n",
              "    <tr style=\"text-align: right;\">\n",
              "      <th></th>\n",
              "      <th>name</th>\n",
              "      <th>math</th>\n",
              "      <th>eng</th>\n",
              "      <th>music</th>\n",
              "      <th>science</th>\n",
              "      <th>physics</th>\n",
              "    </tr>\n",
              "    <tr>\n",
              "      <th>name</th>\n",
              "      <th></th>\n",
              "      <th></th>\n",
              "      <th></th>\n",
              "      <th></th>\n",
              "      <th></th>\n",
              "      <th></th>\n",
              "    </tr>\n",
              "  </thead>\n",
              "  <tbody>\n",
              "    <tr>\n",
              "      <th>hongildong</th>\n",
              "      <td>hongildong</td>\n",
              "      <td>90</td>\n",
              "      <td>98</td>\n",
              "      <td>85</td>\n",
              "      <td>100</td>\n",
              "      <td>80</td>\n",
              "    </tr>\n",
              "    <tr>\n",
              "      <th>hongeeedong</th>\n",
              "      <td>hongeeedong</td>\n",
              "      <td>80</td>\n",
              "      <td>89</td>\n",
              "      <td>95</td>\n",
              "      <td>90</td>\n",
              "      <td>80</td>\n",
              "    </tr>\n",
              "    <tr>\n",
              "      <th>hongsamdong</th>\n",
              "      <td>hongsamdong</td>\n",
              "      <td>70</td>\n",
              "      <td>95</td>\n",
              "      <td>100</td>\n",
              "      <td>90</td>\n",
              "      <td>80</td>\n",
              "    </tr>\n",
              "    <tr>\n",
              "      <th>mahdi</th>\n",
              "      <td>mahdi</td>\n",
              "      <td>100</td>\n",
              "      <td>100</td>\n",
              "      <td>100</td>\n",
              "      <td>100</td>\n",
              "      <td>100</td>\n",
              "    </tr>\n",
              "  </tbody>\n",
              "</table>\n",
              "</div>"
            ],
            "text/plain": [
              "                    name  math  eng  music  science  physics\n",
              "name                                                        \n",
              "hongildong    hongildong    90   98     85      100       80\n",
              "hongeeedong  hongeeedong    80   89     95       90       80\n",
              "hongsamdong  hongsamdong    70   95    100       90       80\n",
              "mahdi              mahdi   100  100    100      100      100"
            ]
          },
          "execution_count": 55,
          "metadata": {},
          "output_type": "execute_result"
        }
      ],
      "source": [
        "df"
      ]
    }
  ],
  "metadata": {
    "colab": {
      "provenance": []
    },
    "kernelspec": {
      "display_name": "Python 3 (ipykernel)",
      "language": "python",
      "name": "python3"
    },
    "language_info": {
      "codemirror_mode": {
        "name": "ipython",
        "version": 3
      },
      "file_extension": ".py",
      "mimetype": "text/x-python",
      "name": "python",
      "nbconvert_exporter": "python",
      "pygments_lexer": "ipython3",
      "version": "3.10.9"
    }
  },
  "nbformat": 4,
  "nbformat_minor": 5
}
