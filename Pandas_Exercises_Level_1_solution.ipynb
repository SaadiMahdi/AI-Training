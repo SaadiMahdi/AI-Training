{
  "cells": [
    {
      "cell_type": "markdown",
      "metadata": {
        "id": "eenvP_yskg_B"
      },
      "source": [
        "\n",
        "\n",
        "# Pandas Series exercises\n"
      ]
    },
    {
      "cell_type": "code",
      "execution_count": 2,
      "metadata": {
        "colab": {
          "base_uri": "https://localhost:8080/"
        },
        "id": "Bb-2y7sPkg_R",
        "outputId": "6eea30d9-a5b8-425e-e890-1da9ee83ee9f"
      },
      "outputs": [
        {
          "name": "stdout",
          "output_type": "stream",
          "text": [
            "1.5.3\n"
          ]
        }
      ],
      "source": [
        "# Import the numpy package under the name np\n",
        "import numpy as np\n",
        "\n",
        "# Import the pandas package under the name pd\n",
        "import pandas as pd\n",
        "\n",
        "# Print the pandas version and the configuration\n",
        "print(pd.__version__)"
      ]
    },
    {
      "cell_type": "markdown",
      "metadata": {
        "id": "2OPM_WKEkg_T"
      },
      "source": [
        "\n",
        "\n",
        "## Series creation"
      ]
    },
    {
      "cell_type": "markdown",
      "metadata": {
        "id": "7sFHeoqrkg_U"
      },
      "source": [
        "### Create an empty pandas Series"
      ]
    },
    {
      "cell_type": "code",
      "execution_count": 3,
      "metadata": {
        "id": "Y__vveh09TfJ",
        "outputId": "95a5c035-9d60-4cb8-b46b-55190de3a4ad"
      },
      "outputs": [
        {
          "name": "stderr",
          "output_type": "stream",
          "text": [
            "C:\\Users\\user\\AppData\\Local\\Temp\\ipykernel_6396\\2338549318.py:1: FutureWarning: The default dtype for empty Series will be 'object' instead of 'float64' in a future version. Specify a dtype explicitly to silence this warning.\n",
            "  a=pd.Series([])\n"
          ]
        },
        {
          "data": {
            "text/plain": [
              "Series([], dtype: float64)"
            ]
          },
          "execution_count": 3,
          "metadata": {},
          "output_type": "execute_result"
        }
      ],
      "source": [
        "a=pd.Series([])\n",
        "a"
      ]
    },
    {
      "cell_type": "markdown",
      "metadata": {
        "id": "vgny9-7Lkg_V"
      },
      "source": [
        "\n",
        "\n",
        "### Given the X python list convert it to an Y pandas Series, check its type"
      ]
    },
    {
      "cell_type": "code",
      "execution_count": 4,
      "metadata": {
        "id": "TqYa7ite9TfK",
        "outputId": "476f9ee9-abc9-4fcd-aa2e-41a44b6f3488",
        "scrolled": true
      },
      "outputs": [
        {
          "data": {
            "text/plain": [
              "0    [1, 2, 3, 4, 5]\n",
              "dtype: object"
            ]
          },
          "execution_count": 4,
          "metadata": {},
          "output_type": "execute_result"
        }
      ],
      "source": [
        "x=[1,2,3,4,5]\n",
        "y=pd.Series([x])\n",
        "y"
      ]
    },
    {
      "cell_type": "markdown",
      "metadata": {
        "id": "ZzTWPUkf9TfK"
      },
      "source": [
        "### Given the X numpy array convert it to an Y pandas Series, check its type"
      ]
    },
    {
      "cell_type": "code",
      "execution_count": 5,
      "metadata": {
        "id": "8piHi9Kr9TfK",
        "outputId": "760d9f45-7e80-4406-d01e-9339bf81119d"
      },
      "outputs": [
        {
          "data": {
            "text/plain": [
              "0    1\n",
              "1    2\n",
              "2    3\n",
              "3    4\n",
              "4    5\n",
              "dtype: int32"
            ]
          },
          "execution_count": 5,
          "metadata": {},
          "output_type": "execute_result"
        }
      ],
      "source": [
        "x=np.array([1,2,3,4,5])\n",
        "y=pd.Series(x)\n",
        "y"
      ]
    },
    {
      "cell_type": "markdown",
      "metadata": {
        "id": "nPkC9mCt9TfK"
      },
      "source": [
        "### Given the X Dictionary convert it to an Y pandas Series, check its type"
      ]
    },
    {
      "cell_type": "code",
      "execution_count": 6,
      "metadata": {
        "id": "uBa51Wrj9TfK",
        "outputId": "cdf8513c-cde8-48b3-ed03-db814a365ac5"
      },
      "outputs": [
        {
          "data": {
            "text/plain": [
              "a    1\n",
              "b    2\n",
              "c    3\n",
              "d    4\n",
              "dtype: int64"
            ]
          },
          "execution_count": 6,
          "metadata": {},
          "output_type": "execute_result"
        }
      ],
      "source": [
        "x={'a':1,'b':2,'c':3,'d':4}\n",
        "X=pd.Series(x)\n",
        "X"
      ]
    },
    {
      "cell_type": "markdown",
      "metadata": {
        "id": "oNj_6mzukg_Y"
      },
      "source": [
        "\n",
        "\n",
        "### Given the X pandas Series, name it 'My letters'"
      ]
    },
    {
      "cell_type": "code",
      "execution_count": 7,
      "metadata": {
        "id": "2Y_BSMax9TfL",
        "outputId": "4366a6d9-4f4d-4de5-e499-bb9a7be3c67c"
      },
      "outputs": [
        {
          "data": {
            "text/plain": [
              "a    1\n",
              "b    2\n",
              "c    3\n",
              "d    4\n",
              "Name: My letters, dtype: int64"
            ]
          },
          "execution_count": 7,
          "metadata": {},
          "output_type": "execute_result"
        }
      ],
      "source": [
        "X.name='My letters'\n",
        "X"
      ]
    },
    {
      "cell_type": "markdown",
      "metadata": {
        "id": "W_6yA0dqkg_Z"
      },
      "source": [
        "\n",
        "\n",
        "### Given the X pandas Series, show its values\n"
      ]
    },
    {
      "cell_type": "code",
      "execution_count": 8,
      "metadata": {
        "id": "t-s8OZDr9TfL",
        "outputId": "c7849369-00c4-40a8-e4f0-754603ff8002"
      },
      "outputs": [
        {
          "data": {
            "text/plain": [
              "array([1, 2, 3, 4], dtype=int64)"
            ]
          },
          "execution_count": 8,
          "metadata": {},
          "output_type": "execute_result"
        }
      ],
      "source": [
        "X.values"
      ]
    },
    {
      "cell_type": "markdown",
      "metadata": {
        "id": "GQTzK4EX9TfL"
      },
      "source": [
        "### Given the X pandas Series, show its index"
      ]
    },
    {
      "cell_type": "code",
      "execution_count": 9,
      "metadata": {
        "id": "khbpoL1k9TfL",
        "outputId": "85591a70-92e3-43e7-98f4-c4c09567c98b"
      },
      "outputs": [
        {
          "data": {
            "text/plain": [
              "Index(['a', 'b', 'c', 'd'], dtype='object')"
            ]
          },
          "execution_count": 9,
          "metadata": {},
          "output_type": "execute_result"
        }
      ],
      "source": [
        "X.index"
      ]
    },
    {
      "cell_type": "markdown",
      "metadata": {
        "id": "FRHJK601kg_a"
      },
      "source": [
        "\n",
        "\n",
        "## Series indexation"
      ]
    },
    {
      "cell_type": "markdown",
      "metadata": {
        "id": "DpJBRV39kg_a"
      },
      "source": [
        "### Assign index names to the given X pandas Series\n"
      ]
    },
    {
      "cell_type": "code",
      "execution_count": 10,
      "metadata": {
        "id": "N613n7Ac9TfL",
        "outputId": "6857b34e-4d5c-41f4-ea38-192bcfc931f8"
      },
      "outputs": [
        {
          "data": {
            "text/plain": [
              "one      1\n",
              "two      2\n",
              "three    3\n",
              "four     4\n",
              "Name: My letters, dtype: int64"
            ]
          },
          "execution_count": 10,
          "metadata": {},
          "output_type": "execute_result"
        }
      ],
      "source": [
        "X.index=['one','two','three','four']\n",
        "X"
      ]
    },
    {
      "cell_type": "markdown",
      "metadata": {
        "id": "fMfDIimmkg_b"
      },
      "source": [
        "\n",
        "\n",
        "### Given the X pandas Series, show its first element\n"
      ]
    },
    {
      "cell_type": "code",
      "execution_count": 11,
      "metadata": {
        "id": "nehOxOuD9TfL",
        "outputId": "645b00f4-c622-423b-e652-3e7e1693f6fc"
      },
      "outputs": [
        {
          "data": {
            "text/plain": [
              "1"
            ]
          },
          "execution_count": 11,
          "metadata": {},
          "output_type": "execute_result"
        }
      ],
      "source": [
        "X[0]"
      ]
    },
    {
      "cell_type": "markdown",
      "metadata": {
        "id": "43dHNuErkg_c"
      },
      "source": [
        "\n",
        "\n",
        "### Given the X pandas Series, show its last element\n"
      ]
    },
    {
      "cell_type": "code",
      "execution_count": 12,
      "metadata": {
        "colab": {
          "base_uri": "https://localhost:8080/"
        },
        "id": "lBS_-m99kg_c",
        "outputId": "3cac67c2-1dc1-486e-817b-6945ffd4722e"
      },
      "outputs": [
        {
          "data": {
            "text/plain": [
              "4"
            ]
          },
          "execution_count": 12,
          "metadata": {},
          "output_type": "execute_result"
        }
      ],
      "source": [
        "X[-1]"
      ]
    },
    {
      "cell_type": "markdown",
      "metadata": {
        "id": "ke2LMl_Nkg_c"
      },
      "source": [
        "\n",
        "\n",
        "### Given the X pandas Series, show all middle elements\n"
      ]
    },
    {
      "cell_type": "code",
      "execution_count": 13,
      "metadata": {
        "colab": {
          "base_uri": "https://localhost:8080/"
        },
        "id": "xxNGqQDNkg_c",
        "outputId": "a2f85931-6d5b-4ad6-a730-1f0c6c2a44bf"
      },
      "outputs": [
        {
          "data": {
            "text/plain": [
              "two      2\n",
              "three    3\n",
              "Name: My letters, dtype: int64"
            ]
          },
          "execution_count": 13,
          "metadata": {},
          "output_type": "execute_result"
        }
      ],
      "source": [
        "X[1:-1]"
      ]
    },
    {
      "cell_type": "markdown",
      "metadata": {
        "id": "3AFaeyEWkg_d"
      },
      "source": [
        "\n",
        "\n",
        "### Given the X pandas Series, show the elements in reverse position\n"
      ]
    },
    {
      "cell_type": "code",
      "execution_count": 14,
      "metadata": {
        "colab": {
          "base_uri": "https://localhost:8080/"
        },
        "id": "TW0qCPv8kg_d",
        "outputId": "99eb9b84-4f7a-4190-9655-885256a2455f"
      },
      "outputs": [
        {
          "data": {
            "text/plain": [
              "four     4\n",
              "three    3\n",
              "two      2\n",
              "one      1\n",
              "Name: My letters, dtype: int64"
            ]
          },
          "execution_count": 14,
          "metadata": {},
          "output_type": "execute_result"
        }
      ],
      "source": [
        "X[::-1]"
      ]
    },
    {
      "cell_type": "markdown",
      "metadata": {
        "id": "V7nPDpIAkg_d"
      },
      "source": [
        "\n",
        "\n",
        "### Given the X pandas Series, show the first and last elements, in one instruction\n"
      ]
    },
    {
      "cell_type": "code",
      "execution_count": 15,
      "metadata": {
        "colab": {
          "base_uri": "https://localhost:8080/"
        },
        "id": "NSuB2o8Fkg_e",
        "outputId": "f196536c-cd76-4901-e1ee-976508c858f2"
      },
      "outputs": [
        {
          "data": {
            "text/plain": [
              "(1, 4)"
            ]
          },
          "execution_count": 15,
          "metadata": {},
          "output_type": "execute_result"
        }
      ],
      "source": [
        "X[0],X[-1]"
      ]
    },
    {
      "cell_type": "markdown",
      "metadata": {
        "id": "6fuC-DZ_kg_e"
      },
      "source": [
        "\n",
        "\n",
        "## Series manipulation"
      ]
    },
    {
      "cell_type": "markdown",
      "metadata": {
        "id": "wyt3wHotkg_e"
      },
      "source": [
        "### Convert the given integer pandas Series to float\n"
      ]
    },
    {
      "cell_type": "code",
      "execution_count": 16,
      "metadata": {
        "colab": {
          "base_uri": "https://localhost:8080/"
        },
        "id": "-ygBtVw6kg_e",
        "outputId": "8a7058d6-0099-4843-ab9b-34cc80330fe3"
      },
      "outputs": [
        {
          "data": {
            "text/plain": [
              "one      1.0\n",
              "two      2.0\n",
              "three    3.0\n",
              "four     4.0\n",
              "Name: My letters, dtype: float64"
            ]
          },
          "execution_count": 16,
          "metadata": {},
          "output_type": "execute_result"
        }
      ],
      "source": [
        "X=X.apply(lambda a:float(a))\n",
        "X"
      ]
    },
    {
      "cell_type": "markdown",
      "metadata": {
        "id": "AzV4SqCdkg_f"
      },
      "source": [
        "\n",
        "\n",
        "### Reverse the given pandas Series (first element becomes last)"
      ]
    },
    {
      "cell_type": "code",
      "execution_count": 17,
      "metadata": {
        "colab": {
          "base_uri": "https://localhost:8080/"
        },
        "id": "GJ8eeQBukg_f",
        "outputId": "bfaf78de-ec6f-4551-f6ad-77e7cf43d219"
      },
      "outputs": [
        {
          "data": {
            "text/plain": [
              "four     4.0\n",
              "three    3.0\n",
              "two      2.0\n",
              "one      1.0\n",
              "Name: My letters, dtype: float64"
            ]
          },
          "execution_count": 17,
          "metadata": {},
          "output_type": "execute_result"
        }
      ],
      "source": [
        "X=X[::-1]\n",
        "X"
      ]
    },
    {
      "cell_type": "markdown",
      "metadata": {
        "id": "52IUL9Mrkg_f"
      },
      "source": [
        "\n",
        "\n",
        "### Order (sort) the given pandas Series (values)\n"
      ]
    },
    {
      "cell_type": "code",
      "execution_count": 18,
      "metadata": {
        "colab": {
          "base_uri": "https://localhost:8080/"
        },
        "id": "IOi6S-YLkg_f",
        "outputId": "d19580dd-a3da-4a53-bf58-5fcdf8d3434c"
      },
      "outputs": [
        {
          "data": {
            "text/plain": [
              "one      1.0\n",
              "two      2.0\n",
              "three    3.0\n",
              "four     4.0\n",
              "Name: My letters, dtype: float64"
            ]
          },
          "execution_count": 18,
          "metadata": {},
          "output_type": "execute_result"
        }
      ],
      "source": [
        "# your code goes here\n",
        "X.sort_values()"
      ]
    },
    {
      "cell_type": "markdown",
      "metadata": {
        "id": "a2idHFOe9TfN"
      },
      "source": [
        "### Order (sort) the given pandas Series (index)\n"
      ]
    },
    {
      "cell_type": "code",
      "execution_count": 19,
      "metadata": {
        "id": "weNWfxmE9TfN",
        "outputId": "7ff6662a-6906-4db7-e0c0-cd4111371786"
      },
      "outputs": [
        {
          "data": {
            "text/plain": [
              "four     4.0\n",
              "one      1.0\n",
              "three    3.0\n",
              "two      2.0\n",
              "Name: My letters, dtype: float64"
            ]
          },
          "execution_count": 19,
          "metadata": {},
          "output_type": "execute_result"
        }
      ],
      "source": [
        "X.sort_index()"
      ]
    },
    {
      "cell_type": "markdown",
      "metadata": {
        "id": "vJRsoJuzkg_g"
      },
      "source": [
        "\n",
        "\n",
        "### Given the X pandas Series, print unique values\n"
      ]
    },
    {
      "cell_type": "code",
      "execution_count": 20,
      "metadata": {
        "colab": {
          "base_uri": "https://localhost:8080/"
        },
        "id": "pyoFTSN5kg_g",
        "outputId": "5a7b2226-73df-4e9b-926d-b1349f1e4d25"
      },
      "outputs": [
        {
          "data": {
            "text/plain": [
              "array([4., 3., 2., 1.])"
            ]
          },
          "execution_count": 20,
          "metadata": {},
          "output_type": "execute_result"
        }
      ],
      "source": [
        "X.unique()"
      ]
    },
    {
      "cell_type": "markdown",
      "metadata": {
        "id": "Tp_6u1fR9TfO"
      },
      "source": [
        "### Given the X pandas Series, print the number of unique values\n"
      ]
    },
    {
      "cell_type": "code",
      "execution_count": 21,
      "metadata": {
        "id": "dtLB_wTQ9TfO",
        "outputId": "a8855c1c-0d70-412a-9f30-37b31602e6ca"
      },
      "outputs": [
        {
          "data": {
            "text/plain": [
              "4"
            ]
          },
          "execution_count": 21,
          "metadata": {},
          "output_type": "execute_result"
        }
      ],
      "source": [
        "X.nunique()"
      ]
    },
    {
      "cell_type": "markdown",
      "metadata": {
        "id": "QF2mGgF89TfO"
      },
      "source": [
        "### Given the X pandas Series, print the count of unique values\n"
      ]
    },
    {
      "cell_type": "code",
      "execution_count": 22,
      "metadata": {
        "id": "NpzGfm-69TfO",
        "outputId": "479b9953-1c68-478c-db63-4286ef124f8d"
      },
      "outputs": [
        {
          "data": {
            "text/plain": [
              "4.0    1\n",
              "3.0    1\n",
              "2.0    1\n",
              "1.0    1\n",
              "Name: My letters, dtype: int64"
            ]
          },
          "execution_count": 22,
          "metadata": {},
          "output_type": "execute_result"
        }
      ],
      "source": [
        "X.value_counts()"
      ]
    },
    {
      "cell_type": "markdown",
      "metadata": {
        "id": "BBww-Y0Y9TfO"
      },
      "source": [
        "### Given the X pandas Series, set the fifth element equal to 10\n"
      ]
    },
    {
      "cell_type": "code",
      "execution_count": 23,
      "metadata": {
        "colab": {
          "base_uri": "https://localhost:8080/"
        },
        "id": "eXQqUhKqXaHj",
        "outputId": "def8471c-fc9b-4212-9d6c-3271fefb3223"
      },
      "outputs": [
        {
          "data": {
            "text/plain": [
              "four      4.0\n",
              "three     3.0\n",
              "two       2.0\n",
              "one      10.0\n",
              "Name: My letters, dtype: float64"
            ]
          },
          "execution_count": 23,
          "metadata": {},
          "output_type": "execute_result"
        }
      ],
      "source": [
        "X[3]=10\n",
        "X"
      ]
    },
    {
      "cell_type": "markdown",
      "metadata": {
        "id": "c7NnI4WGkg_g"
      },
      "source": [
        "\n",
        "\n",
        "### Given the X pandas Series, change all the middle elements to 0\n"
      ]
    },
    {
      "cell_type": "code",
      "execution_count": 24,
      "metadata": {
        "colab": {
          "base_uri": "https://localhost:8080/"
        },
        "id": "PsOT1nLzkg_g",
        "outputId": "02690ba8-3b77-4fa6-f5ee-35b4cfaa8068"
      },
      "outputs": [
        {
          "data": {
            "text/plain": [
              "four      4.0\n",
              "three     0.0\n",
              "two       0.0\n",
              "one      10.0\n",
              "Name: My letters, dtype: float64"
            ]
          },
          "execution_count": 24,
          "metadata": {},
          "output_type": "execute_result"
        }
      ],
      "source": [
        "X[1:-1]=0\n",
        "X"
      ]
    },
    {
      "cell_type": "markdown",
      "metadata": {
        "id": "QPDIl64akg_h"
      },
      "source": [
        "\n",
        "\n",
        "### Given the X pandas Series, add 5 to every element\n"
      ]
    },
    {
      "cell_type": "code",
      "execution_count": 25,
      "metadata": {
        "colab": {
          "base_uri": "https://localhost:8080/"
        },
        "id": "eBdMpUd1kg_h",
        "outputId": "aa2042ff-7779-4b54-b019-cd588340b9fc"
      },
      "outputs": [
        {
          "data": {
            "text/plain": [
              "four      9.0\n",
              "three     5.0\n",
              "two       5.0\n",
              "one      15.0\n",
              "Name: My letters, dtype: float64"
            ]
          },
          "execution_count": 25,
          "metadata": {},
          "output_type": "execute_result"
        }
      ],
      "source": [
        "X=X.apply(lambda a:a+5)\n",
        "X"
      ]
    },
    {
      "cell_type": "markdown",
      "metadata": {
        "id": "pnepp1FLkg_h"
      },
      "source": [
        "\n",
        "\n",
        "## Series boolean arrays (also called masks)"
      ]
    },
    {
      "cell_type": "markdown",
      "metadata": {
        "id": "3KDYGRxDkg_h"
      },
      "source": [
        "### Given the X pandas Series, make a mask showing negative elements\n"
      ]
    },
    {
      "cell_type": "code",
      "execution_count": 26,
      "metadata": {
        "colab": {
          "base_uri": "https://localhost:8080/"
        },
        "id": "mDVHhAlWkg_i",
        "outputId": "ddfe36b3-a8fd-4f1e-e642-19b9e463f969"
      },
      "outputs": [
        {
          "data": {
            "text/plain": [
              "four     True\n",
              "three    True\n",
              "two      True\n",
              "one      True\n",
              "Name: My letters, dtype: bool"
            ]
          },
          "execution_count": 26,
          "metadata": {},
          "output_type": "execute_result"
        }
      ],
      "source": [
        "X>0"
      ]
    },
    {
      "cell_type": "markdown",
      "metadata": {
        "id": "SHtH4GRMkg_i"
      },
      "source": [
        "\n",
        "\n",
        "### Given the X pandas Series, get the negative elements\n"
      ]
    },
    {
      "cell_type": "code",
      "execution_count": 27,
      "metadata": {
        "colab": {
          "base_uri": "https://localhost:8080/"
        },
        "id": "AuTZ2o0Gkg_i",
        "outputId": "5dfe608f-9c06-4faf-f594-41d5d4829d9e"
      },
      "outputs": [
        {
          "data": {
            "text/plain": [
              "four      9.0\n",
              "three     5.0\n",
              "two       5.0\n",
              "one      15.0\n",
              "Name: My letters, dtype: float64"
            ]
          },
          "execution_count": 27,
          "metadata": {},
          "output_type": "execute_result"
        }
      ],
      "source": [
        "X[X>0]"
      ]
    },
    {
      "cell_type": "markdown",
      "metadata": {
        "id": "7Kg3rmuMkg_i"
      },
      "source": [
        "\n",
        "\n",
        "### Given the X pandas Series, get numbers higher than 5\n"
      ]
    },
    {
      "cell_type": "code",
      "execution_count": 28,
      "metadata": {
        "colab": {
          "base_uri": "https://localhost:8080/"
        },
        "id": "5smOR6kTkg_i",
        "outputId": "13a25203-6e28-43ef-ba2e-9f449fc6d0d6"
      },
      "outputs": [
        {
          "data": {
            "text/plain": [
              "four     9.0\n",
              "one     15.0\n",
              "Name: My letters, dtype: float64"
            ]
          },
          "execution_count": 28,
          "metadata": {},
          "output_type": "execute_result"
        }
      ],
      "source": [
        "X[X>5]"
      ]
    },
    {
      "cell_type": "markdown",
      "metadata": {
        "id": "CSxi0w0Ykg_j"
      },
      "source": [
        "\n",
        "\n",
        "### Given the X pandas Series, get numbers higher than the elements mean"
      ]
    },
    {
      "cell_type": "code",
      "execution_count": 29,
      "metadata": {
        "colab": {
          "base_uri": "https://localhost:8080/"
        },
        "id": "Pfv6AF-jkg_j",
        "outputId": "430cebe8-00e9-4785-d64c-f052dacefeb5"
      },
      "outputs": [
        {
          "data": {
            "text/plain": [
              "four     9.0\n",
              "one     15.0\n",
              "Name: My letters, dtype: float64"
            ]
          },
          "execution_count": 29,
          "metadata": {},
          "output_type": "execute_result"
        }
      ],
      "source": [
        "X[X>X.mean(axis=0)]"
      ]
    },
    {
      "cell_type": "markdown",
      "metadata": {
        "id": "kLsPXR0Skg_j"
      },
      "source": [
        "\n",
        "\n",
        "### Given the X pandas Series, get numbers equal to 2 or 10\n"
      ]
    },
    {
      "cell_type": "code",
      "execution_count": 30,
      "metadata": {
        "colab": {
          "base_uri": "https://localhost:8080/"
        },
        "id": "njiBGWz8kg_k",
        "outputId": "0064621c-e569-45c0-cf32-46cd4139c6e0"
      },
      "outputs": [
        {
          "data": {
            "text/plain": [
              "Series([], Name: My letters, dtype: bool)"
            ]
          },
          "execution_count": 30,
          "metadata": {},
          "output_type": "execute_result"
        }
      ],
      "source": [
        "X[X==2]|X[X==10]"
      ]
    },
    {
      "cell_type": "markdown",
      "metadata": {
        "id": "1LpxGpJLkg_k"
      },
      "source": [
        "\n",
        "\n",
        "## Logic functions"
      ]
    },
    {
      "cell_type": "markdown",
      "metadata": {
        "id": "YsocSUpykg_k"
      },
      "source": [
        "### Given the X pandas Series, return True if none of its elements is zero"
      ]
    },
    {
      "cell_type": "code",
      "execution_count": 31,
      "metadata": {
        "colab": {
          "base_uri": "https://localhost:8080/"
        },
        "id": "JYLRESUwkg_k",
        "outputId": "aa529984-818a-4952-9824-f53020c6b668"
      },
      "outputs": [
        {
          "ename": "SyntaxError",
          "evalue": "invalid syntax. Maybe you meant '==' or ':=' instead of '='? (1116536556.py, line 1)",
          "output_type": "error",
          "traceback": [
            "\u001b[1;36m  Cell \u001b[1;32mIn[31], line 1\u001b[1;36m\u001b[0m\n\u001b[1;33m    X[X=0].all()\u001b[0m\n\u001b[1;37m      ^\u001b[0m\n\u001b[1;31mSyntaxError\u001b[0m\u001b[1;31m:\u001b[0m invalid syntax. Maybe you meant '==' or ':=' instead of '='?\n"
          ]
        }
      ],
      "source": [
        "X[X=0].all()"
      ]
    },
    {
      "cell_type": "markdown",
      "metadata": {
        "id": "TvS-P_Yhkg_l"
      },
      "source": [
        "\n",
        "\n",
        "### Given the X pandas Series, return True if any of its elements is zero\n"
      ]
    },
    {
      "cell_type": "code",
      "execution_count": null,
      "metadata": {
        "id": "vks2VWd5kg_l"
      },
      "outputs": [],
      "source": [
        "X[X!=0].any()"
      ]
    },
    {
      "cell_type": "code",
      "execution_count": null,
      "metadata": {
        "id": "z15dHUzUDbj_"
      },
      "outputs": [],
      "source": [
        "0 in X"
      ]
    },
    {
      "cell_type": "markdown",
      "metadata": {
        "id": "p3RbXlwXD5C8"
      },
      "source": [
        "### Given the X pandas Series, return True if any of its indexes is zero"
      ]
    },
    {
      "cell_type": "code",
      "execution_count": null,
      "metadata": {
        "id": "11izRDGk9TfQ"
      },
      "outputs": [],
      "source": [
        "X.index[X.index==0].any()"
      ]
    },
    {
      "cell_type": "code",
      "execution_count": null,
      "metadata": {
        "id": "w-sqkfhHEDTu"
      },
      "outputs": [],
      "source": [
        "0 in X.index"
      ]
    },
    {
      "cell_type": "markdown",
      "metadata": {
        "id": "YbnVt975kg_l"
      },
      "source": [
        "\n",
        "\n",
        "## Summary statistics"
      ]
    },
    {
      "cell_type": "markdown",
      "metadata": {
        "id": "pdGeq7s6kg_m"
      },
      "source": [
        "### Given the X pandas Series, show the sum of its elements\n"
      ]
    },
    {
      "cell_type": "code",
      "execution_count": null,
      "metadata": {
        "id": "TXYOPKbekg_m"
      },
      "outputs": [],
      "source": [
        "X.sum()"
      ]
    },
    {
      "cell_type": "markdown",
      "metadata": {
        "id": "LfQLlFaXkg_n"
      },
      "source": [
        "\n",
        "\n",
        "### Given the X pandas Series, show the mean value of its elements"
      ]
    },
    {
      "cell_type": "code",
      "execution_count": null,
      "metadata": {
        "id": "iOi-4wojkg_n"
      },
      "outputs": [],
      "source": [
        "X.mean()"
      ]
    },
    {
      "cell_type": "markdown",
      "metadata": {
        "id": "TwCA2-JKkg_o"
      },
      "source": [
        "\n",
        "\n",
        "### Given the X pandas Series, show the max value of its elements"
      ]
    },
    {
      "cell_type": "code",
      "execution_count": null,
      "metadata": {
        "id": "WFgv-JfAkg_o"
      },
      "outputs": [],
      "source": [
        "X.max()"
      ]
    },
    {
      "cell_type": "markdown",
      "metadata": {
        "id": "r51LciNk9TfR"
      },
      "source": [
        "## define a lambda function and then apply it to a pandas serie"
      ]
    },
    {
      "cell_type": "code",
      "execution_count": null,
      "metadata": {
        "id": "prwCi2UJ9TfR"
      },
      "outputs": [],
      "source": [
        "X=X.apply(lambda a:a+5)\n"
      ]
    },
    {
      "cell_type": "code",
      "execution_count": null,
      "metadata": {
        "id": "FdDTmjbA9TfR"
      },
      "outputs": [],
      "source": []
    }
  ],
  "metadata": {
    "colab": {
      "provenance": []
    },
    "kernelspec": {
      "display_name": "Python 3 (ipykernel)",
      "language": "python",
      "name": "python3"
    },
    "language_info": {
      "codemirror_mode": {
        "name": "ipython",
        "version": 3
      },
      "file_extension": ".py",
      "mimetype": "text/x-python",
      "name": "python",
      "nbconvert_exporter": "python",
      "pygments_lexer": "ipython3",
      "version": "3.10.9"
    },
    "toc": {
      "base_numbering": 1,
      "nav_menu": {},
      "number_sections": true,
      "sideBar": true,
      "skip_h1_title": false,
      "title_cell": "Table of Contents",
      "title_sidebar": "Contents",
      "toc_cell": false,
      "toc_position": {},
      "toc_section_display": true,
      "toc_window_display": false
    },
    "varInspector": {
      "cols": {
        "lenName": 16,
        "lenType": 16,
        "lenVar": 40
      },
      "kernels_config": {
        "python": {
          "delete_cmd_postfix": "",
          "delete_cmd_prefix": "del ",
          "library": "var_list.py",
          "varRefreshCmd": "print(var_dic_list())"
        },
        "r": {
          "delete_cmd_postfix": ") ",
          "delete_cmd_prefix": "rm(",
          "library": "var_list.r",
          "varRefreshCmd": "cat(var_dic_list()) "
        }
      },
      "types_to_exclude": [
        "module",
        "function",
        "builtin_function_or_method",
        "instance",
        "_Feature"
      ],
      "window_display": false
    }
  },
  "nbformat": 4,
  "nbformat_minor": 0
}
